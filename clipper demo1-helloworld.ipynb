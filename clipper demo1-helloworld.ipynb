{
 "cells": [
  {
   "cell_type": "markdown",
   "metadata": {},
   "source": [
    "# apache clipper \n",
    "## demo 1 : build helloworld and test"
   ]
  },
  {
   "cell_type": "markdown",
   "metadata": {},
   "source": [
    "## 1. build up Clipper Management"
   ]
  },
  {
   "cell_type": "code",
   "execution_count": 4,
   "metadata": {},
   "outputs": [],
   "source": [
    "from clipper_admin import ClipperConnection, DockerContainerManager\n",
    "from clipper_admin.deployers import python as python_deployer"
   ]
  },
  {
   "cell_type": "markdown",
   "metadata": {},
   "source": [
    "引用函示庫"
   ]
  },
  {
   "cell_type": "code",
   "execution_count": 5,
   "metadata": {},
   "outputs": [],
   "source": [
    "clipper_conn = ClipperConnection(DockerContainerManager())\n"
   ]
  },
  {
   "cell_type": "markdown",
   "metadata": {},
   "source": [
    "初始 clipper_conn 與 docker container 連線 ( docker 服務需啟動 ) "
   ]
  },
  {
   "cell_type": "code",
   "execution_count": 6,
   "metadata": {
    "scrolled": true
   },
   "outputs": [
    {
     "name": "stderr",
     "output_type": "stream",
     "text": [
      "19-09-05:08:24:18 INFO     [docker_container_manager.py:184] [default-cluster] Starting managed Redis instance in Docker\n",
      "19-09-05:08:24:28 INFO     [docker_container_manager.py:276] [default-cluster] Metric Configuration Saved at /tmp/tmpsfst_x57.yml\n",
      "19-09-05:08:24:32 INFO     [clipper_admin.py:162] [default-cluster] Clipper is running\n"
     ]
    }
   ],
   "source": [
    "clipper_conn.start_clipper()"
   ]
  },
  {
   "cell_type": "markdown",
   "metadata": {},
   "source": [
    "啟動clipper manager (listen on 1337 ) "
   ]
  },
  {
   "cell_type": "markdown",
   "metadata": {},
   "source": [
    "## 2. Register 微服務@docker"
   ]
  },
  {
   "cell_type": "code",
   "execution_count": 7,
   "metadata": {
    "scrolled": true
   },
   "outputs": [
    {
     "name": "stderr",
     "output_type": "stream",
     "text": [
      "19-09-05:08:24:32 INFO     [clipper_admin.py:236] [default-cluster] Application hello-world was successfully registered\n"
     ]
    }
   ],
   "source": [
    "clipper_conn.register_application(\n",
    "    name=\"hello-world\", \n",
    "    input_type=\"doubles\", \n",
    "    default_output=\"-1.0\", \n",
    "    slo_micros=100000)\n"
   ]
  },
  {
   "cell_type": "markdown",
   "metadata": {},
   "source": [
    "註冊一個名為hello-world 的 application 微服務"
   ]
  },
  {
   "cell_type": "code",
   "execution_count": 8,
   "metadata": {
    "scrolled": false
   },
   "outputs": [
    {
     "data": {
      "text/plain": [
       "['hello-world']"
      ]
     },
     "execution_count": 8,
     "metadata": {},
     "output_type": "execute_result"
    }
   ],
   "source": [
    "clipper_conn.get_all_apps()\n"
   ]
  },
  {
   "cell_type": "markdown",
   "metadata": {},
   "source": [
    "測試看看是否註冊成功"
   ]
  },
  {
   "cell_type": "code",
   "execution_count": 9,
   "metadata": {},
   "outputs": [],
   "source": [
    "def feature_sum(xs):\n",
    "    return [str(sum(x)) for x in xs]\n"
   ]
  },
  {
   "cell_type": "markdown",
   "metadata": {},
   "source": [
    "撰寫一個簡單的累加應用function"
   ]
  },
  {
   "cell_type": "code",
   "execution_count": 10,
   "metadata": {
    "scrolled": false
   },
   "outputs": [
    {
     "name": "stderr",
     "output_type": "stream",
     "text": [
      "19-09-05:08:24:32 INFO     [deployer_utils.py:41] Saving function to /tmp/tmp27pnohdiclipper\n",
      "19-09-05:08:24:32 INFO     [deployer_utils.py:51] Serialized and supplied predict function\n",
      "19-09-05:08:24:32 INFO     [python.py:192] Python closure saved\n",
      "19-09-05:08:24:32 INFO     [python.py:206] Using Python 3.6 base image\n",
      "19-09-05:08:24:32 INFO     [clipper_admin.py:534] [default-cluster] Building model Docker image with model data from /tmp/tmp27pnohdiclipper\n",
      "19-09-05:08:24:34 INFO     [clipper_admin.py:539] [default-cluster] Step 1/2 : FROM clipper/python36-closure-container:0.4.1\n",
      "19-09-05:08:24:34 INFO     [clipper_admin.py:539] [default-cluster]  ---> e5b9dc250c05\n",
      "19-09-05:08:24:34 INFO     [clipper_admin.py:539] [default-cluster] Step 2/2 : COPY /tmp/tmp27pnohdiclipper /model/\n",
      "19-09-05:08:24:34 INFO     [clipper_admin.py:539] [default-cluster]  ---> dab656fc0f3f\n",
      "19-09-05:08:24:34 INFO     [clipper_admin.py:539] [default-cluster] Successfully built dab656fc0f3f\n",
      "19-09-05:08:24:34 INFO     [clipper_admin.py:539] [default-cluster] Successfully tagged waue0920/default-cluster-waue-sum-model:2\n",
      "19-09-05:08:24:34 INFO     [clipper_admin.py:541] [default-cluster] Pushing model Docker image to waue0920/default-cluster-waue-sum-model:2\n",
      "19-09-05:08:24:48 INFO     [docker_container_manager.py:409] [default-cluster] Found 0 replicas for waue-sum-model:2. Adding 1\n",
      "19-09-05:08:24:52 INFO     [clipper_admin.py:724] [default-cluster] Successfully registered model waue-sum-model:2\n",
      "19-09-05:08:24:52 INFO     [clipper_admin.py:642] [default-cluster] Done deploying model waue-sum-model:2.\n"
     ]
    }
   ],
   "source": [
    "python_deployer.deploy_python_closure(clipper_conn, \n",
    "                                      name=\"waue-sum-model\", \n",
    "                                      version=2, \n",
    "                                      input_type=\"doubles\", \n",
    "                                      func=feature_sum,\n",
    "                                      registry=\"waue0920\"\n",
    "                                     )\n"
   ]
  },
  {
   "cell_type": "markdown",
   "metadata": {},
   "source": [
    "這個階段會執行比較久的時間，將feature_sum 服務駐進model container image中，參數 name, version, registry 是docker hub 上的相關參數，用來上傳這個container到docker hub，因此 docker hub 相關的設定要對，也要先確定此台server 能 docker login 到docker hub上，否則這段會出錯。"
   ]
  },
  {
   "cell_type": "markdown",
   "metadata": {},
   "source": [
    "<table border=\"5\" align=\"left\">\n",
    "    <tr align=\"center\">\n",
    "        <td>參數名稱與付值</td><td>說明</td>\n",
    "    </tr>\n",
    "    <tr align=\"left\">\n",
    "        <td>clipper_conn</td><td>原先建立的連線</td>\n",
    "    </tr>\n",
    "    <tr align=\"left\"><td>name=\"waue-sum-model\"</td><td>上傳到 docker hub上的名稱</td></tr>\n",
    "    <tr align=\"left\"><td>version=2</td><td>上傳到 docker hub上的版本</td></tr>\n",
    "    <tr align=\"left\"><td>registry=\"waue0920\"</td><td>docker hub 登入的帳號</td></tr>\n",
    "    <tr align=\"left\"><td>func=feature_sum</td><td>微服務 function 名稱</td></tr>\n",
    "    <tr align=\"left\"><td>input_type=\"doubles\"</td><td>prediction階段時的輸入型態</td></tr>\n",
    "</table>"
   ]
  },
  {
   "cell_type": "code",
   "execution_count": 11,
   "metadata": {},
   "outputs": [
    {
     "name": "stderr",
     "output_type": "stream",
     "text": [
      "19-09-05:08:24:52 INFO     [clipper_admin.py:303] [default-cluster] Model waue-sum-model is now linked to application hello-world\n"
     ]
    }
   ],
   "source": [
    "clipper_conn.link_model_to_app(app_name=\"hello-world\", model_name=\"waue-sum-model\")"
   ]
  },
  {
   "cell_type": "markdown",
   "metadata": {},
   "source": [
    "將原本微服務 hello-world 與 model container image : waue-sum-model 鏈結在一起"
   ]
  },
  {
   "cell_type": "markdown",
   "metadata": {},
   "source": [
    "## 3. prediction via restful api"
   ]
  },
  {
   "cell_type": "code",
   "execution_count": 13,
   "metadata": {
    "scrolled": true
   },
   "outputs": [
    {
     "data": {
      "text/plain": [
       "{'query_id': 1, 'output': 4851.0, 'default': False}"
      ]
     },
     "execution_count": 13,
     "metadata": {},
     "output_type": "execute_result"
    }
   ],
   "source": [
    "import requests, json, numpy as np\n",
    "headers = {\"Content-type\": \"application/json\"}\n",
    "requests.post(\"http://localhost:1337/hello-world/predict\", \n",
    "              headers=headers, data=json.dumps({\"input\": [ float(x) for x in range(1,99)]})).json()"
   ]
  },
  {
   "cell_type": "markdown",
   "metadata": {},
   "source": [
    "用restful api 丟一個1~9999的list給微服務，可以看到直接回傳結果"
   ]
  },
  {
   "cell_type": "markdown",
   "metadata": {},
   "source": [
    "用 curl :\n",
    "<code> curl -X POST \"http://203.145.220.208:1337/hello-world/predict\" -H \"accept: application/json\" -d \"{\\\"input\\\":[1.0,2.0]}\" </code>"
   ]
  },
  {
   "cell_type": "markdown",
   "metadata": {},
   "source": [
    "## demo1 : reconnect to clipper manager"
   ]
  },
  {
   "cell_type": "code",
   "execution_count": 1,
   "metadata": {
    "scrolled": true
   },
   "outputs": [
    {
     "name": "stderr",
     "output_type": "stream",
     "text": [
      "19-09-05:08:14:33 INFO     [clipper_admin.py:172] [default-cluster] Successfully connected to Clipper cluster at localhost:1337\n"
     ]
    }
   ],
   "source": [
    "from clipper_admin import ClipperConnection, DockerContainerManager\n",
    "clipper_conn = ClipperConnection(DockerContainerManager())\n",
    "clipper_conn.connect()"
   ]
  },
  {
   "cell_type": "code",
   "execution_count": 2,
   "metadata": {},
   "outputs": [
    {
     "data": {
      "text/plain": [
       "['face-gender-orangejuice571',\n",
       " 'face-gender-orangejuice813',\n",
       " 'face-gender-orangejuice403',\n",
       " 'face-gender-orange',\n",
       " 'face-gender-orangejuice506',\n",
       " 'face-gender-orangejuice368',\n",
       " 'face-app',\n",
       " 'face-gender',\n",
       " 'hello-world',\n",
       " 'face-gender-orangejuice773']"
      ]
     },
     "execution_count": 2,
     "metadata": {},
     "output_type": "execute_result"
    }
   ],
   "source": [
    "clipper_conn.get_all_apps()\n"
   ]
  },
  {
   "cell_type": "markdown",
   "metadata": {},
   "source": [
    "## demo1 : close services "
   ]
  },
  {
   "cell_type": "code",
   "execution_count": 3,
   "metadata": {},
   "outputs": [
    {
     "name": "stderr",
     "output_type": "stream",
     "text": [
      "19-09-05:08:17:02 INFO     [clipper_admin.py:1424] [default-cluster] Stopped all Clipper cluster and all model containers\n"
     ]
    }
   ],
   "source": [
    "clipper_conn.stop_all()"
   ]
  },
  {
   "cell_type": "code",
   "execution_count": null,
   "metadata": {},
   "outputs": [],
   "source": []
  }
 ],
 "metadata": {
  "kernelspec": {
   "display_name": "Python 3",
   "language": "python",
   "name": "python3"
  },
  "language_info": {
   "codemirror_mode": {
    "name": "ipython",
    "version": 3
   },
   "file_extension": ".py",
   "mimetype": "text/x-python",
   "name": "python",
   "nbconvert_exporter": "python",
   "pygments_lexer": "ipython3",
   "version": "3.6.5"
  }
 },
 "nbformat": 4,
 "nbformat_minor": 2
}
