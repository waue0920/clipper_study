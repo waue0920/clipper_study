{
 "cells": [
  {
   "cell_type": "markdown",
   "metadata": {},
   "source": [
    "# apache clipper \n",
    "## demo 2 : Image and test"
   ]
  },
  {
   "cell_type": "markdown",
   "metadata": {},
   "source": [
    "# A. 使用 bytes 格式解析圖片\n"
   ]
  },
  {
   "cell_type": "code",
   "execution_count": 1,
   "metadata": {},
   "outputs": [],
   "source": [
    "import base64\n",
    "import json\n",
    "import requests\n",
    "from clipper_admin import ClipperConnection, DockerContainerManager\n",
    "from clipper_admin.deployers import python as python_deployer"
   ]
  },
  {
   "cell_type": "markdown",
   "metadata": {},
   "source": [
    "引用函示庫"
   ]
  },
  {
   "cell_type": "code",
   "execution_count": 2,
   "metadata": {},
   "outputs": [
    {
     "data": {
      "text/plain": [
       "b'\\x89PNG\\r\\n\\x1a\\n\\x00\\x00'"
      ]
     },
     "execution_count": 2,
     "metadata": {},
     "output_type": "execute_result"
    }
   ],
   "source": [
    "raw_bytes = open('imgs/clipper-logo.png', \"rb\").read()\n",
    "raw_bytes[:10]"
   ]
  },
  {
   "cell_type": "code",
   "execution_count": 3,
   "metadata": {
    "scrolled": true
   },
   "outputs": [
    {
     "name": "stdout",
     "output_type": "stream",
     "text": [
      "<class 'bytes'>\n"
     ]
    },
    {
     "data": {
      "text/plain": [
       "b'iVBORw0KGg'"
      ]
     },
     "execution_count": 3,
     "metadata": {},
     "output_type": "execute_result"
    }
   ],
   "source": [
    "encoded_bytes = base64.b64encode(raw_bytes)\n",
    "print(type(encoded_bytes))\n",
    "encoded_bytes[:10]"
   ]
  },
  {
   "cell_type": "code",
   "execution_count": 4,
   "metadata": {
    "scrolled": false
   },
   "outputs": [
    {
     "name": "stdout",
     "output_type": "stream",
     "text": [
      "<class 'str'>\n"
     ]
    },
    {
     "data": {
      "text/plain": [
       "'iVBORw0KGg'"
      ]
     },
     "execution_count": 4,
     "metadata": {},
     "output_type": "execute_result"
    }
   ],
   "source": [
    "encoded_string = encoded_bytes.decode()\n",
    "print(type(encoded_string))\n",
    "encoded_string[:10]"
   ]
  },
  {
   "cell_type": "markdown",
   "metadata": {},
   "source": [
    "## A.1 Build"
   ]
  },
  {
   "cell_type": "code",
   "execution_count": 5,
   "metadata": {},
   "outputs": [],
   "source": [
    "def image_size(imgs):\n",
    "    \"\"\"\n",
    "    Input: \n",
    "    - imgs : (np.ndarray) of shape (n, d). n is the number of data in this batch\n",
    "             d is the length of the bytes as numpy int8 array.  \n",
    "    Output:\n",
    "    - sizes : List[Tuple(int, int),...]\n",
    "    \"\"\"\n",
    "    import base64\n",
    "    import io\n",
    "    import os\n",
    "    import PIL.Image\n",
    "    import tempfile\n",
    "  \n",
    "    num_imgs = len(imgs)\n",
    "    sizes = []\n",
    "    for i in range(num_imgs):\n",
    "        # Create a temp file to write to\n",
    "        tmp = tempfile.NamedTemporaryFile('wb', delete=False, suffix='.png')\n",
    "        tmp.write(io.BytesIO(imgs[i]).getvalue())\n",
    "        tmp.close()\n",
    "        \n",
    "        # Use PIL to read in the file and compute size\n",
    "        size = PIL.Image.open(tmp.name, 'r').size\n",
    "        \n",
    "        # Remove the temp file\n",
    "        os.unlink(tmp.name) \n",
    "\n",
    "        sizes.append(size)\n",
    "    return sizes"
   ]
  },
  {
   "cell_type": "code",
   "execution_count": 6,
   "metadata": {
    "scrolled": true
   },
   "outputs": [
    {
     "name": "stderr",
     "output_type": "stream",
     "text": [
      "19-09-05:09:51:12 WARNING  [clipper_admin.py:141] [default-cluster] Error starting Clipper: Cluster default-cluster cannot be started because it already exists. Please use ClipperConnection.connect() to connect to it.\n",
      "19-09-05:09:51:12 INFO     [clipper_admin.py:172] [default-cluster] Successfully connected to Clipper cluster at localhost:1337\n"
     ]
    }
   ],
   "source": [
    "from clipper_admin import ClipperConnection, DockerContainerManager\n",
    "from clipper_admin.deployers import python as python_deployer\n",
    "\n",
    "clipper_conn = ClipperConnection(DockerContainerManager())\n",
    "\n",
    "try:\n",
    "    clipper_conn.start_clipper()\n",
    "except:\n",
    "    clipper_conn.connect()\n"
   ]
  },
  {
   "cell_type": "markdown",
   "metadata": {},
   "source": [
    "## 2.1 & 2.2 & 2.3"
   ]
  },
  {
   "cell_type": "code",
   "execution_count": 7,
   "metadata": {},
   "outputs": [
    {
     "name": "stderr",
     "output_type": "stream",
     "text": [
      "19-09-05:09:51:12 INFO     [deployer_utils.py:41] Saving function to /tmp/tmp933iur0fclipper\n",
      "19-09-05:09:51:12 INFO     [deployer_utils.py:51] Serialized and supplied predict function\n",
      "19-09-05:09:51:12 INFO     [python.py:192] Python closure saved\n",
      "19-09-05:09:51:12 INFO     [python.py:206] Using Python 3.6 base image\n",
      "19-09-05:09:51:12 INFO     [clipper_admin.py:534] [default-cluster] Building model Docker image with model data from /tmp/tmp933iur0fclipper\n",
      "19-09-05:09:51:13 INFO     [clipper_admin.py:539] [default-cluster] Step 1/3 : FROM clipper/python36-closure-container:0.4.1\n",
      "19-09-05:09:51:13 INFO     [clipper_admin.py:539] [default-cluster]  ---> e5b9dc250c05\n",
      "19-09-05:09:51:13 INFO     [clipper_admin.py:539] [default-cluster] Step 2/3 : RUN apt-get -y install build-essential && pip install pillow\n",
      "19-09-05:09:51:13 INFO     [clipper_admin.py:539] [default-cluster]  ---> Using cache\n",
      "19-09-05:09:51:13 INFO     [clipper_admin.py:539] [default-cluster]  ---> 8ae0157ca546\n",
      "19-09-05:09:51:13 INFO     [clipper_admin.py:539] [default-cluster] Step 3/3 : COPY /tmp/tmp933iur0fclipper /model/\n",
      "19-09-05:09:51:13 INFO     [clipper_admin.py:539] [default-cluster]  ---> 162783077189\n",
      "19-09-05:09:51:13 INFO     [clipper_admin.py:539] [default-cluster] Successfully built 162783077189\n",
      "19-09-05:09:51:13 INFO     [clipper_admin.py:539] [default-cluster] Successfully tagged waue0920/default-cluster-image-example:3\n",
      "19-09-05:09:51:13 INFO     [clipper_admin.py:541] [default-cluster] Pushing model Docker image to waue0920/default-cluster-image-example:3\n",
      "19-09-05:09:51:29 INFO     [docker_container_manager.py:409] [default-cluster] Found 0 replicas for image-example:3. Adding 1\n",
      "19-09-05:09:51:46 INFO     [clipper_admin.py:724] [default-cluster] Successfully registered model image-example:3\n",
      "19-09-05:09:51:46 INFO     [clipper_admin.py:642] [default-cluster] Done deploying model image-example:3.\n"
     ]
    }
   ],
   "source": [
    "python_deployer.deploy_python_closure(clipper_conn, \n",
    "                                      name=\"image-example\", \n",
    "                                      version=3, \n",
    "                                      input_type=\"bytes\", \n",
    "                                      func=image_size,\n",
    "                                      registry=\"waue0920\",\n",
    "                                      pkgs_to_install=['pillow']\n",
    "                                     )"
   ]
  },
  {
   "cell_type": "code",
   "execution_count": 8,
   "metadata": {},
   "outputs": [
    {
     "name": "stderr",
     "output_type": "stream",
     "text": [
      "19-09-05:09:51:46 INFO     [clipper_admin.py:236] [default-cluster] Application image-example was successfully registered\n"
     ]
    }
   ],
   "source": [
    "clipper_conn.register_application(\n",
    "    name=\"image-example\", \n",
    "    input_type=\"bytes\", \n",
    "    default_output=\"-1.0\", \n",
    "    slo_micros=100000)"
   ]
  },
  {
   "cell_type": "code",
   "execution_count": 9,
   "metadata": {
    "scrolled": true
   },
   "outputs": [
    {
     "name": "stderr",
     "output_type": "stream",
     "text": [
      "19-09-05:09:51:49 INFO     [clipper_admin.py:303] [default-cluster] Model image-example is now linked to application image-example\n"
     ]
    }
   ],
   "source": [
    "clipper_conn.link_model_to_app(app_name=\"image-example\", model_name=\"image-example\")\n"
   ]
  },
  {
   "cell_type": "markdown",
   "metadata": {},
   "source": [
    "## 2.a \n",
    "create_endpoint 取代 deploy_python_closure & register_application & link_model_to_app"
   ]
  },
  {
   "cell_type": "code",
   "execution_count": 10,
   "metadata": {},
   "outputs": [
    {
     "name": "stderr",
     "output_type": "stream",
     "text": [
      "19-09-05:09:51:52 INFO     [clipper_admin.py:236] [default-cluster] Application image-example2 was successfully registered\n",
      "19-09-05:09:51:52 INFO     [deployer_utils.py:41] Saving function to /tmp/tmpbs_ryv62clipper\n",
      "19-09-05:09:51:52 INFO     [deployer_utils.py:51] Serialized and supplied predict function\n",
      "19-09-05:09:51:52 INFO     [python.py:192] Python closure saved\n",
      "19-09-05:09:51:52 INFO     [python.py:206] Using Python 3.6 base image\n",
      "19-09-05:09:51:52 INFO     [clipper_admin.py:534] [default-cluster] Building model Docker image with model data from /tmp/tmpbs_ryv62clipper\n",
      "19-09-05:09:51:58 INFO     [clipper_admin.py:539] [default-cluster] Step 1/3 : FROM clipper/python36-closure-container:0.4.1\n",
      "19-09-05:09:51:58 INFO     [clipper_admin.py:539] [default-cluster]  ---> e5b9dc250c05\n",
      "19-09-05:09:51:58 INFO     [clipper_admin.py:539] [default-cluster] Step 2/3 : RUN apt-get -y install build-essential && pip install pillow\n",
      "19-09-05:09:51:58 INFO     [clipper_admin.py:539] [default-cluster]  ---> Using cache\n",
      "19-09-05:09:51:58 INFO     [clipper_admin.py:539] [default-cluster]  ---> 8ae0157ca546\n",
      "19-09-05:09:51:58 INFO     [clipper_admin.py:539] [default-cluster] Step 3/3 : COPY /tmp/tmpbs_ryv62clipper /model/\n",
      "19-09-05:09:51:58 INFO     [clipper_admin.py:539] [default-cluster]  ---> 01ad865dc143\n",
      "19-09-05:09:51:58 INFO     [clipper_admin.py:539] [default-cluster] Successfully built 01ad865dc143\n",
      "19-09-05:09:51:58 INFO     [clipper_admin.py:539] [default-cluster] Successfully tagged default-cluster-image-example2:1\n",
      "19-09-05:09:51:58 INFO     [clipper_admin.py:541] [default-cluster] Pushing model Docker image to default-cluster-image-example2:1\n",
      "19-09-05:09:52:01 INFO     [docker_container_manager.py:409] [default-cluster] Found 0 replicas for image-example2:1. Adding 1\n",
      "19-09-05:09:52:10 INFO     [clipper_admin.py:724] [default-cluster] Successfully registered model image-example2:1\n",
      "19-09-05:09:52:10 INFO     [clipper_admin.py:642] [default-cluster] Done deploying model image-example2:1.\n",
      "19-09-05:09:52:10 INFO     [clipper_admin.py:303] [default-cluster] Model image-example2 is now linked to application image-example2\n"
     ]
    }
   ],
   "source": [
    "python_deployer.create_endpoint(\n",
    "    clipper_conn=clipper_conn, \n",
    "    name=\"image-example2\", \n",
    "    input_type=\"bytes\", \n",
    "    func=image_size, \n",
    "    pkgs_to_install=['pillow']\n",
    ")"
   ]
  },
  {
   "cell_type": "code",
   "execution_count": 11,
   "metadata": {
    "scrolled": false
   },
   "outputs": [
    {
     "data": {
      "text/plain": [
       "['image-example2', 'hello-world', 'image-example']"
      ]
     },
     "execution_count": 11,
     "metadata": {},
     "output_type": "execute_result"
    }
   ],
   "source": [
    "clipper_conn.get_all_apps()"
   ]
  },
  {
   "cell_type": "markdown",
   "metadata": {},
   "source": [
    "## A.2 Test"
   ]
  },
  {
   "cell_type": "code",
   "execution_count": 12,
   "metadata": {},
   "outputs": [],
   "source": [
    "def query(addr, filename):\n",
    "    url = \"http://%s/image-example2/predict\" % addr\n",
    "    req_json = json.dumps({\n",
    "        \"input\":\n",
    "        base64.b64encode(open(filename, \"rb\").read()).decode() # bytes to unicode\n",
    "    })\n",
    "    headers = {'Content-type': 'application/json'}\n",
    "    r = requests.post(url, headers=headers, data=req_json)\n",
    "    print(r.json())"
   ]
  },
  {
   "cell_type": "code",
   "execution_count": 26,
   "metadata": {
    "scrolled": true
   },
   "outputs": [
    {
     "name": "stdout",
     "output_type": "stream",
     "text": [
      "{'query_id': 13, 'output': '(749, 600)', 'default': False}\n"
     ]
    }
   ],
   "source": [
    "query(clipper_conn.get_query_addr(), 'imgs/clipper-logo.png')"
   ]
  },
  {
   "cell_type": "code",
   "execution_count": 27,
   "metadata": {},
   "outputs": [
    {
     "name": "stdout",
     "output_type": "stream",
     "text": [
      "{'query_id': 14, 'output': '(749, 600)', 'default': False}\n"
     ]
    }
   ],
   "source": [
    "query(clipper_conn.get_query_addr(), 'imgs/clipper-logo.jpg')"
   ]
  },
  {
   "cell_type": "markdown",
   "metadata": {},
   "source": [
    "# B. 換 string 格式"
   ]
  },
  {
   "cell_type": "markdown",
   "metadata": {},
   "source": [
    "## B.1 Build"
   ]
  },
  {
   "cell_type": "code",
   "execution_count": 15,
   "metadata": {},
   "outputs": [],
   "source": [
    " def image_size_json(imgs):\n",
    "    \"\"\"\n",
    "    Input: \n",
    "    - imgs : an array of strings \n",
    "    Output:\n",
    "    - sizes : List[Tuple(int, int),...]\n",
    "    \"\"\"\n",
    "    import base64\n",
    "    import io\n",
    "    import os\n",
    "    import PIL.Image\n",
    "    import tempfile\n",
    "    import json\n",
    "  \n",
    "    num_imgs = len(imgs)\n",
    "    sizes = []\n",
    "    for i in range(num_imgs):\n",
    "        # Deserialize the query\n",
    "        data = json.loads(imgs[i])\n",
    "        image_format = data['format']\n",
    "        image_bytes = data['data'].encode()\n",
    "        \n",
    "        # Create a temp file to write to\n",
    "        tmp = tempfile.NamedTemporaryFile('wb', delete=False, suffix='.{}'.format(image_format))\n",
    "        tmp.write(io.BytesIO(base64.b64decode(image_bytes)).getvalue())\n",
    "        tmp.close()\n",
    "        \n",
    "        # Use PIL to read in the file and compute size\n",
    "        size = PIL.Image.open(tmp.name, 'r').size\n",
    "        \n",
    "        # Remove the temp file\n",
    "        os.unlink(tmp.name) \n",
    "\n",
    "        sizes.append(size)\n",
    "    return sizes    \n",
    "    \n",
    "    "
   ]
  },
  {
   "cell_type": "code",
   "execution_count": 16,
   "metadata": {
    "scrolled": true
   },
   "outputs": [
    {
     "name": "stderr",
     "output_type": "stream",
     "text": [
      "19-09-05:09:52:12 INFO     [clipper_admin.py:236] [default-cluster] Application image-example-string was successfully registered\n",
      "19-09-05:09:52:12 INFO     [deployer_utils.py:41] Saving function to /tmp/tmpm5vz2k9wclipper\n",
      "19-09-05:09:52:12 INFO     [deployer_utils.py:51] Serialized and supplied predict function\n",
      "19-09-05:09:52:12 INFO     [python.py:192] Python closure saved\n",
      "19-09-05:09:52:12 INFO     [python.py:206] Using Python 3.6 base image\n",
      "19-09-05:09:52:12 INFO     [clipper_admin.py:534] [default-cluster] Building model Docker image with model data from /tmp/tmpm5vz2k9wclipper\n",
      "19-09-05:09:52:14 INFO     [clipper_admin.py:539] [default-cluster] Step 1/3 : FROM clipper/python36-closure-container:0.4.1\n",
      "19-09-05:09:52:14 INFO     [clipper_admin.py:539] [default-cluster]  ---> e5b9dc250c05\n",
      "19-09-05:09:52:14 INFO     [clipper_admin.py:539] [default-cluster] Step 2/3 : RUN apt-get -y install build-essential && pip install pillow\n",
      "19-09-05:09:52:14 INFO     [clipper_admin.py:539] [default-cluster]  ---> Using cache\n",
      "19-09-05:09:52:14 INFO     [clipper_admin.py:539] [default-cluster]  ---> 8ae0157ca546\n",
      "19-09-05:09:52:14 INFO     [clipper_admin.py:539] [default-cluster] Step 3/3 : COPY /tmp/tmpm5vz2k9wclipper /model/\n",
      "19-09-05:09:52:14 INFO     [clipper_admin.py:539] [default-cluster]  ---> f9952b2032f2\n",
      "19-09-05:09:52:14 INFO     [clipper_admin.py:539] [default-cluster] Successfully built f9952b2032f2\n",
      "19-09-05:09:52:14 INFO     [clipper_admin.py:539] [default-cluster] Successfully tagged waue0920/default-cluster-image-example-string:2\n",
      "19-09-05:09:52:14 INFO     [clipper_admin.py:541] [default-cluster] Pushing model Docker image to waue0920/default-cluster-image-example-string:2\n",
      "19-09-05:09:52:51 INFO     [docker_container_manager.py:409] [default-cluster] Found 0 replicas for image-example-string:2. Adding 1\n",
      "19-09-05:09:52:54 INFO     [clipper_admin.py:724] [default-cluster] Successfully registered model image-example-string:2\n",
      "19-09-05:09:52:54 INFO     [clipper_admin.py:642] [default-cluster] Done deploying model image-example-string:2.\n",
      "19-09-05:09:52:54 INFO     [clipper_admin.py:303] [default-cluster] Model image-example-string is now linked to application image-example-string\n"
     ]
    }
   ],
   "source": [
    "python_deployer.create_endpoint(\n",
    "    clipper_conn=clipper_conn, \n",
    "    name=\"image-example-string\", \n",
    "    registry=\"waue0920\",\n",
    "    version=2,\n",
    "    input_type=\"strings\", \n",
    "    func=image_size_json, \n",
    "    pkgs_to_install=['pillow']\n",
    ")"
   ]
  },
  {
   "cell_type": "code",
   "execution_count": 17,
   "metadata": {
    "scrolled": false
   },
   "outputs": [
    {
     "data": {
      "text/plain": [
       "['image-example2', 'image-example-string', 'hello-world', 'image-example']"
      ]
     },
     "execution_count": 17,
     "metadata": {},
     "output_type": "execute_result"
    }
   ],
   "source": [
    "clipper_conn.get_all_apps()"
   ]
  },
  {
   "cell_type": "markdown",
   "metadata": {},
   "source": [
    "## B.2 test"
   ]
  },
  {
   "cell_type": "code",
   "execution_count": 18,
   "metadata": {},
   "outputs": [],
   "source": [
    "def query_json(addr, filename, image_format):\n",
    "    url = \"http://%s/image-example-string/predict\" % addr\n",
    "    req_json = json.dumps({\n",
    "        \"input\":\n",
    "        json.dumps({\n",
    "            'data': base64.b64encode(open(filename, \"rb\").read()).decode(),\n",
    "            'format': image_format\n",
    "        })\n",
    "    })\n",
    "    headers = {'Content-type': 'application/json'}\n",
    "    r = requests.post(url, headers=headers, data=req_json)\n",
    "    print(r.json())"
   ]
  },
  {
   "cell_type": "code",
   "execution_count": 23,
   "metadata": {
    "scrolled": true
   },
   "outputs": [
    {
     "name": "stdout",
     "output_type": "stream",
     "text": [
      "{'query_id': 10, 'output': '(749, 600)', 'default': False}\n"
     ]
    }
   ],
   "source": [
    "query_json(clipper_conn.get_query_addr(), 'imgs/clipper-logo.jpg', 'jpg')"
   ]
  },
  {
   "cell_type": "code",
   "execution_count": 24,
   "metadata": {},
   "outputs": [
    {
     "name": "stdout",
     "output_type": "stream",
     "text": [
      "{'query_id': 11, 'output': '(749, 600)', 'default': False}\n"
     ]
    }
   ],
   "source": [
    "query_json(clipper_conn.get_query_addr(), 'imgs/clipper-logo.png', 'png')"
   ]
  },
  {
   "cell_type": "code",
   "execution_count": 25,
   "metadata": {},
   "outputs": [
    {
     "name": "stdout",
     "output_type": "stream",
     "text": [
      "{'query_id': 12, 'output': '(709, 176)', 'default': False}\n"
     ]
    }
   ],
   "source": [
    "query_json(clipper_conn.get_query_addr(), 'imgs/encoding_explained.png', 'png')"
   ]
  },
  {
   "cell_type": "markdown",
   "metadata": {},
   "source": [
    "# 查目前有幾個微服務"
   ]
  },
  {
   "cell_type": "code",
   "execution_count": 22,
   "metadata": {
    "scrolled": true
   },
   "outputs": [
    {
     "data": {
      "text/plain": [
       "['image-example2', 'image-example-string', 'hello-world', 'image-example']"
      ]
     },
     "execution_count": 22,
     "metadata": {},
     "output_type": "execute_result"
    }
   ],
   "source": [
    "clipper_conn.get_all_apps()"
   ]
  },
  {
   "cell_type": "markdown",
   "metadata": {},
   "source": [
    "# Shutdown Clipper"
   ]
  },
  {
   "cell_type": "markdown",
   "metadata": {
    "scrolled": false
   },
   "source": [
    "clipper_conn.stop_all()"
   ]
  }
 ],
 "metadata": {
  "kernelspec": {
   "display_name": "Python 3",
   "language": "python",
   "name": "python3"
  },
  "language_info": {
   "codemirror_mode": {
    "name": "ipython",
    "version": 3
   },
   "file_extension": ".py",
   "mimetype": "text/x-python",
   "name": "python",
   "nbconvert_exporter": "python",
   "pygments_lexer": "ipython3",
   "version": "3.6.5"
  }
 },
 "nbformat": 4,
 "nbformat_minor": 2
}
