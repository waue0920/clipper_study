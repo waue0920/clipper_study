{
 "cells": [
  {
   "cell_type": "markdown",
   "metadata": {},
   "source": [
    "# apache clipper \n",
    "## demo 4 : train by keras model and import to clipper"
   ]
  },
  {
   "cell_type": "code",
   "execution_count": 1,
   "metadata": {},
   "outputs": [
    {
     "name": "stderr",
     "output_type": "stream",
     "text": [
      "/opt/anaconda3/lib/python3.6/site-packages/h5py/__init__.py:36: FutureWarning: Conversion of the second argument of issubdtype from `float` to `np.floating` is deprecated. In future, it will be treated as `np.float64 == np.dtype(float).type`.\n",
      "  from ._conv import register_converters as _register_converters\n",
      "Using TensorFlow backend.\n"
     ]
    }
   ],
   "source": [
    "import tensorflow as tf\n",
    "import keras\n",
    "from keras.models import Sequential\n",
    "from keras.layers import Dense\n",
    "import pandas as pd\n",
    "import numpy as np\n",
    "import time"
   ]
  },
  {
   "cell_type": "code",
   "execution_count": 2,
   "metadata": {
    "scrolled": true
   },
   "outputs": [],
   "source": [
    "# Load a text file with diabetes records\n",
    "# This is the same dataset as included in Scikit example, where it's loaded automatically\n",
    "dataset = pd.read_csv(\"diabetes.txt\", delimiter=\" \")"
   ]
  },
  {
   "cell_type": "markdown",
   "metadata": {},
   "source": [
    "* 糖尿病資料，\n",
    "    * age (age), \n",
    "    * sex (sex), \n",
    "    * body mass index (bmi)\n",
    "    * mean arterial blood pressure (map) \n",
    "    * six blood serum measurements (tc, ldl, hdl, tch, ltg and glu)\n",
    "    * y = 疾病觀測值，越大越不好\n",
    "    \n",
    "ps : 下表為原始糖尿病資料數據，但此範例的 diabetes.txt 是已經標準化過的檔案"
   ]
  },
  {
   "cell_type": "markdown",
   "metadata": {},
   "source": [
    "<table class=\"display dataTable no-footer\" id=\"DataTables_Table_0\" role=\"grid\">\n",
    "  <thead>\n",
    "    <tr role=\"row\"><th class=\"sorting_disabled\" rowspan=\"1\" colspan=\"1\" aria-label=\" \"> </th><th class=\"dt-right sorting\" tabindex=\"0\" aria-controls=\"DataTables_Table_0\" rowspan=\"1\" colspan=\"1\" aria-label=\"age: activate to sort column ascending\">age</th><th class=\"dt-right sorting\" tabindex=\"0\" aria-controls=\"DataTables_Table_0\" rowspan=\"1\" colspan=\"1\" aria-label=\"sex: activate to sort column ascending\">sex</th><th class=\"dt-right sorting\" tabindex=\"0\" aria-controls=\"DataTables_Table_0\" rowspan=\"1\" colspan=\"1\" aria-label=\"bmi: activate to sort column ascending\">bmi</th><th class=\"dt-right sorting\" tabindex=\"0\" aria-controls=\"DataTables_Table_0\" rowspan=\"1\" colspan=\"1\" aria-label=\"map: activate to sort column ascending\">map</th><th class=\"dt-right sorting\" tabindex=\"0\" aria-controls=\"DataTables_Table_0\" rowspan=\"1\" colspan=\"1\" aria-label=\"tc: activate to sort column ascending\">tc</th><th class=\"dt-right sorting\" tabindex=\"0\" aria-controls=\"DataTables_Table_0\" rowspan=\"1\" colspan=\"1\" aria-label=\"ldl: activate to sort column ascending\">ldl</th><th class=\"dt-right sorting\" tabindex=\"0\" aria-controls=\"DataTables_Table_0\" rowspan=\"1\" colspan=\"1\" aria-label=\"hdl: activate to sort column ascending\">hdl</th><th class=\"dt-right sorting\" tabindex=\"0\" aria-controls=\"DataTables_Table_0\" rowspan=\"1\" colspan=\"1\" aria-label=\"tch: activate to sort column ascending\">tch</th><th class=\"dt-right sorting\" tabindex=\"0\" aria-controls=\"DataTables_Table_0\" rowspan=\"1\" colspan=\"1\" aria-label=\"ltg: activate to sort column ascending\">ltg</th><th class=\"dt-right sorting\" tabindex=\"0\" aria-controls=\"DataTables_Table_0\" rowspan=\"1\" colspan=\"1\" aria-label=\"glu: activate to sort column ascending\">glu</th><th class=\"dt-right sorting\" tabindex=\"0\" aria-controls=\"DataTables_Table_0\" rowspan=\"1\" colspan=\"1\" aria-label=\"y: activate to sort column ascending\">y</th></tr>\n",
    "  </thead>\n",
    "<tbody><tr role=\"row\" class=\"odd\"><td>1</td><td class=\" dt-right\">59</td><td class=\" dt-right\">2</td><td class=\" dt-right\">32.1</td><td class=\" dt-right\">101</td><td class=\" dt-right\">157</td><td class=\" dt-right\">93.2</td><td class=\" dt-right\">38</td><td class=\" dt-right\">4</td><td class=\" dt-right\">4.8598</td><td class=\" dt-right\">87</td><td class=\" dt-right\">151</td></tr><tr role=\"row\" class=\"even\"><td>2</td><td class=\" dt-right\">48</td><td class=\" dt-right\">1</td><td class=\" dt-right\">21.6</td><td class=\" dt-right\">87</td><td class=\" dt-right\">183</td><td class=\" dt-right\">103.2</td><td class=\" dt-right\">70</td><td class=\" dt-right\">3</td><td class=\" dt-right\">3.8918</td><td class=\" dt-right\">69</td><td class=\" dt-right\">75</td></tr><tr role=\"row\" class=\"odd\"><td>3</td><td class=\" dt-right\">72</td><td class=\" dt-right\">2</td><td class=\" dt-right\">30.5</td><td class=\" dt-right\">93</td><td class=\" dt-right\">156</td><td class=\" dt-right\">93.6</td><td class=\" dt-right\">41</td><td class=\" dt-right\">4</td><td class=\" dt-right\">4.6728</td><td class=\" dt-right\">85</td><td class=\" dt-right\">141</td></tr><tr role=\"row\" class=\"even\"><td>4</td><td class=\" dt-right\">24</td><td class=\" dt-right\">1</td><td class=\" dt-right\">25.3</td><td class=\" dt-right\">84</td><td class=\" dt-right\">198</td><td class=\" dt-right\">131.4</td><td class=\" dt-right\">40</td><td class=\" dt-right\">5</td><td class=\" dt-right\">4.8903</td><td class=\" dt-right\">89</td><td class=\" dt-right\">206</td></tr><tr role=\"row\" class=\"odd\"><td>5</td><td class=\" dt-right\">50</td><td class=\" dt-right\">1</td><td class=\" dt-right\">23</td><td class=\" dt-right\">101</td><td class=\" dt-right\">192</td><td class=\" dt-right\">125.4</td><td class=\" dt-right\">52</td><td class=\" dt-right\">4</td><td class=\" dt-right\">4.2905</td><td class=\" dt-right\">80</td><td class=\" dt-right\">135</td></tr><tr role=\"row\" class=\"even\"><td>6</td><td class=\" dt-right\">23</td><td class=\" dt-right\">1</td><td class=\" dt-right\">22.6</td><td class=\" dt-right\">89</td><td class=\" dt-right\">139</td><td class=\" dt-right\">64.8</td><td class=\" dt-right\">61</td><td class=\" dt-right\">2</td><td class=\" dt-right\">4.1897</td><td class=\" dt-right\">68</td><td class=\" dt-right\">97</td></tr><tr role=\"row\" class=\"odd\"><td>7</td><td class=\" dt-right\">36</td><td class=\" dt-right\">2</td><td class=\" dt-right\">22</td><td class=\" dt-right\">90</td><td class=\" dt-right\">160</td><td class=\" dt-right\">99.6</td><td class=\" dt-right\">50</td><td class=\" dt-right\">3</td><td class=\" dt-right\">3.9512</td><td class=\" dt-right\">82</td><td class=\" dt-right\">138</td></tr><tr role=\"row\" class=\"even\"><td>8</td><td class=\" dt-right\">66</td><td class=\" dt-right\">2</td><td class=\" dt-right\">26.2</td><td class=\" dt-right\">114</td><td class=\" dt-right\">255</td><td class=\" dt-right\">185</td><td class=\" dt-right\">56</td><td class=\" dt-right\">4.55</td><td class=\" dt-right\">4.2485</td><td class=\" dt-right\">92</td><td class=\" dt-right\">63</td></tr><tr role=\"row\" class=\"odd\"><td>9</td><td class=\" dt-right\">60</td><td class=\" dt-right\">2</td><td class=\" dt-right\">32.1</td><td class=\" dt-right\">83</td><td class=\" dt-right\">179</td><td class=\" dt-right\">119.4</td><td class=\" dt-right\">42</td><td class=\" dt-right\">4</td><td class=\" dt-right\">4.4773</td><td class=\" dt-right\">94</td><td class=\" dt-right\">110</td></tr><tr role=\"row\" class=\"even\"><td>10</td><td class=\" dt-right\">29</td><td class=\" dt-right\">1</td><td class=\" dt-right\">30</td><td class=\" dt-right\">85</td><td class=\" dt-right\">180</td><td class=\" dt-right\">93.4</td><td class=\" dt-right\">43</td><td class=\" dt-right\">4</td><td class=\" dt-right\">5.3845</td><td class=\" dt-right\">88</td><td class=\" dt-right\">310</td></tr></tbody></table>"
   ]
  },
  {
   "cell_type": "code",
   "execution_count": 3,
   "metadata": {},
   "outputs": [],
   "source": [
    "# 80-20 split\n",
    "train_dataset = dataset.sample(frac=0.8,random_state=0)\n",
    "test_dataset = dataset.drop(train_dataset.index)"
   ]
  },
  {
   "cell_type": "code",
   "execution_count": 4,
   "metadata": {
    "scrolled": true
   },
   "outputs": [],
   "source": [
    "# Target variable\n",
    "train_labels = train_dataset.pop('y')\n",
    "test_labels = test_dataset.pop('y')"
   ]
  },
  {
   "cell_type": "code",
   "execution_count": 5,
   "metadata": {},
   "outputs": [
    {
     "name": "stdout",
     "output_type": "stream",
     "text": [
      "WARNING:tensorflow:From /opt/anaconda3/lib/python3.6/site-packages/tensorflow/python/framework/op_def_library.py:263: colocate_with (from tensorflow.python.framework.ops) is deprecated and will be removed in a future version.\n",
      "Instructions for updating:\n",
      "Colocations handled automatically by placer.\n"
     ]
    }
   ],
   "source": [
    "# Build a simple neural network\n",
    "def build_model():\n",
    "  model = Sequential()\n",
    "  model.add(Dense(64, activation='relu', input_shape=[len(train_dataset.keys())]))\n",
    "  model.add(Dense(64, activation='relu'))\n",
    "  model.add(Dense(units =1))\n",
    "\n",
    "  model.compile(loss='mean_squared_error',\n",
    "                optimizer='Adam',\n",
    "                metrics=['mean_absolute_error', 'mean_squared_error'])\n",
    "  return model\n",
    "\n",
    "model = build_model()"
   ]
  },
  {
   "cell_type": "code",
   "execution_count": 6,
   "metadata": {},
   "outputs": [
    {
     "name": "stdout",
     "output_type": "stream",
     "text": [
      "WARNING:tensorflow:From /opt/anaconda3/lib/python3.6/site-packages/tensorflow/python/ops/math_ops.py:3066: to_int32 (from tensorflow.python.ops.math_ops) is deprecated and will be removed in a future version.\n",
      "Instructions for updating:\n",
      "Use tf.cast instead.\n",
      "Train on 283 samples, validate on 71 samples\n",
      "Epoch 1/400\n",
      "283/283 [==============================] - 0s 654us/step - loss: 29200.2737 - mean_absolute_error: 153.4822 - mean_squared_error: 29200.2737 - val_loss: 26921.6570 - val_mean_absolute_error: 144.8783 - val_mean_squared_error: 26921.6570\n",
      "Epoch 2/400\n",
      "283/283 [==============================] - 0s 44us/step - loss: 29164.4891 - mean_absolute_error: 153.3654 - mean_squared_error: 29164.4891 - val_loss: 26881.9480 - val_mean_absolute_error: 144.7404 - val_mean_squared_error: 26881.9480\n",
      "Epoch 3/400\n",
      "283/283 [==============================] - 0s 37us/step - loss: 29114.7808 - mean_absolute_error: 153.2055 - mean_squared_error: 29114.7808 - val_loss: 26824.3266 - val_mean_absolute_error: 144.5426 - val_mean_squared_error: 26824.3266\n",
      "Epoch 4/400\n",
      "283/283 [==============================] - 0s 33us/step - loss: 29040.2164 - mean_absolute_error: 152.9668 - mean_squared_error: 29040.2164 - val_loss: 26737.0314 - val_mean_absolute_error: 144.2454 - val_mean_squared_error: 26737.0314\n",
      "Epoch 5/400\n",
      "283/283 [==============================] - 0s 34us/step - loss: 28925.6629 - mean_absolute_error: 152.6063 - mean_squared_error: 28925.6629 - val_loss: 26606.2614 - val_mean_absolute_error: 143.8039 - val_mean_squared_error: 26606.2614\n",
      "Epoch 6/400\n",
      "283/283 [==============================] - 0s 35us/step - loss: 28756.4740 - mean_absolute_error: 152.0699 - mean_squared_error: 28756.4740 - val_loss: 26415.9934 - val_mean_absolute_error: 143.1636 - val_mean_squared_error: 26415.9934\n",
      "Epoch 7/400\n",
      "283/283 [==============================] - 0s 38us/step - loss: 28519.5427 - mean_absolute_error: 151.3085 - mean_squared_error: 28519.5427 - val_loss: 26150.3511 - val_mean_absolute_error: 142.2699 - val_mean_squared_error: 26150.3511\n",
      "Epoch 8/400\n",
      "283/283 [==============================] - 0s 36us/step - loss: 28185.8332 - mean_absolute_error: 150.2574 - mean_squared_error: 28185.8332 - val_loss: 25797.5103 - val_mean_absolute_error: 141.0755 - val_mean_squared_error: 25797.5103\n",
      "Epoch 9/400\n",
      "283/283 [==============================] - 0s 41us/step - loss: 27755.5186 - mean_absolute_error: 148.8734 - mean_squared_error: 27755.5186 - val_loss: 25337.1309 - val_mean_absolute_error: 139.5077 - val_mean_squared_error: 25337.1309\n",
      "Epoch 10/400\n",
      "283/283 [==============================] - 0s 32us/step - loss: 27199.0486 - mean_absolute_error: 147.0704 - mean_squared_error: 27199.0486 - val_loss: 24754.7716 - val_mean_absolute_error: 137.5017 - val_mean_squared_error: 24754.7716\n",
      "Epoch 11/400\n",
      "283/283 [==============================] - 0s 37us/step - loss: 26496.0400 - mean_absolute_error: 144.7733 - mean_squared_error: 26496.0400 - val_loss: 24040.0226 - val_mean_absolute_error: 134.9950 - val_mean_squared_error: 24040.0226\n",
      "Epoch 12/400\n",
      "283/283 [==============================] - 0s 38us/step - loss: 25656.7433 - mean_absolute_error: 141.9489 - mean_squared_error: 25656.7433 - val_loss: 23170.2429 - val_mean_absolute_error: 131.8935 - val_mean_squared_error: 23170.2429\n",
      "Epoch 13/400\n",
      "283/283 [==============================] - 0s 35us/step - loss: 24635.4998 - mean_absolute_error: 138.4758 - mean_squared_error: 24635.4998 - val_loss: 22155.1078 - val_mean_absolute_error: 128.1804 - val_mean_squared_error: 22155.1078\n",
      "Epoch 14/400\n",
      "283/283 [==============================] - 0s 33us/step - loss: 23453.6322 - mean_absolute_error: 134.3324 - mean_squared_error: 23453.6322 - val_loss: 20987.6804 - val_mean_absolute_error: 123.7751 - val_mean_squared_error: 20987.6804\n",
      "Epoch 15/400\n",
      "283/283 [==============================] - 0s 66us/step - loss: 22103.7033 - mean_absolute_error: 129.4620 - mean_squared_error: 22103.7033 - val_loss: 19674.9789 - val_mean_absolute_error: 118.6385 - val_mean_squared_error: 19674.9789\n",
      "Epoch 16/400\n",
      "283/283 [==============================] - 0s 31us/step - loss: 20589.5766 - mean_absolute_error: 123.8708 - mean_squared_error: 20589.5766 - val_loss: 18236.7199 - val_mean_absolute_error: 112.7513 - val_mean_squared_error: 18236.7199\n",
      "Epoch 17/400\n",
      "283/283 [==============================] - 0s 33us/step - loss: 18957.9504 - mean_absolute_error: 117.4168 - mean_squared_error: 18957.9504 - val_loss: 16689.4690 - val_mean_absolute_error: 106.0622 - val_mean_squared_error: 16689.4690\n",
      "Epoch 18/400\n",
      "283/283 [==============================] - 0s 28us/step - loss: 17212.9396 - mean_absolute_error: 110.2296 - mean_squared_error: 17212.9396 - val_loss: 15065.6178 - val_mean_absolute_error: 98.6147 - val_mean_squared_error: 15065.6178\n",
      "Epoch 19/400\n",
      "283/283 [==============================] - 0s 28us/step - loss: 15394.5244 - mean_absolute_error: 102.4761 - mean_squared_error: 15394.5244 - val_loss: 13412.9110 - val_mean_absolute_error: 90.8808 - val_mean_squared_error: 13412.9110\n",
      "Epoch 20/400\n",
      "283/283 [==============================] - 0s 30us/step - loss: 13582.6057 - mean_absolute_error: 94.4845 - mean_squared_error: 13582.6057 - val_loss: 11772.2057 - val_mean_absolute_error: 82.8888 - val_mean_squared_error: 11772.2057\n",
      "Epoch 21/400\n",
      "283/283 [==============================] - 0s 28us/step - loss: 11766.2016 - mean_absolute_error: 86.3076 - mean_squared_error: 11766.2016 - val_loss: 10225.1717 - val_mean_absolute_error: 76.0665 - val_mean_squared_error: 10225.1717\n",
      "Epoch 22/400\n",
      "283/283 [==============================] - 0s 29us/step - loss: 10086.8742 - mean_absolute_error: 78.7821 - mean_squared_error: 10086.8742 - val_loss: 8802.6505 - val_mean_absolute_error: 69.9834 - val_mean_squared_error: 8802.6505\n",
      "Epoch 23/400\n",
      "283/283 [==============================] - 0s 29us/step - loss: 8578.3714 - mean_absolute_error: 72.0080 - mean_squared_error: 8578.3714 - val_loss: 7550.0087 - val_mean_absolute_error: 65.0558 - val_mean_squared_error: 7550.0087\n",
      "Epoch 24/400\n",
      "283/283 [==============================] - 0s 29us/step - loss: 7212.0735 - mean_absolute_error: 65.7149 - mean_squared_error: 7212.0735 - val_loss: 6540.1332 - val_mean_absolute_error: 61.1002 - val_mean_squared_error: 6540.1332\n",
      "Epoch 25/400\n",
      "283/283 [==============================] - 0s 29us/step - loss: 6165.3591 - mean_absolute_error: 61.1309 - mean_squared_error: 6165.3591 - val_loss: 5729.3436 - val_mean_absolute_error: 58.5729 - val_mean_squared_error: 5729.3436\n",
      "Epoch 26/400\n",
      "283/283 [==============================] - 0s 29us/step - loss: 5314.8977 - mean_absolute_error: 57.6694 - mean_squared_error: 5314.8977 - val_loss: 5140.6225 - val_mean_absolute_error: 57.2454 - val_mean_squared_error: 5140.6225\n",
      "Epoch 27/400\n",
      "283/283 [==============================] - 0s 29us/step - loss: 4711.7429 - mean_absolute_error: 55.2989 - mean_squared_error: 4711.7429 - val_loss: 4742.3159 - val_mean_absolute_error: 56.6940 - val_mean_squared_error: 4742.3159\n",
      "Epoch 28/400\n",
      "283/283 [==============================] - 0s 29us/step - loss: 4326.2620 - mean_absolute_error: 53.7648 - mean_squared_error: 4326.2620 - val_loss: 4490.4280 - val_mean_absolute_error: 56.6575 - val_mean_squared_error: 4490.4280\n",
      "Epoch 29/400\n",
      "283/283 [==============================] - 0s 30us/step - loss: 4042.1048 - mean_absolute_error: 52.5295 - mean_squared_error: 4042.1048 - val_loss: 4357.3707 - val_mean_absolute_error: 56.7929 - val_mean_squared_error: 4357.3707\n",
      "Epoch 30/400\n",
      "283/283 [==============================] - 0s 29us/step - loss: 3900.7818 - mean_absolute_error: 52.1075 - mean_squared_error: 3900.7818 - val_loss: 4282.1358 - val_mean_absolute_error: 56.8289 - val_mean_squared_error: 4282.1358\n",
      "Epoch 31/400\n",
      "283/283 [==============================] - 0s 33us/step - loss: 3813.9765 - mean_absolute_error: 51.7311 - mean_squared_error: 3813.9765 - val_loss: 4240.5145 - val_mean_absolute_error: 56.7970 - val_mean_squared_error: 4240.5145\n",
      "Epoch 32/400\n",
      "283/283 [==============================] - 0s 34us/step - loss: 3746.6831 - mean_absolute_error: 51.3653 - mean_squared_error: 3746.6831 - val_loss: 4211.6739 - val_mean_absolute_error: 56.6945 - val_mean_squared_error: 4211.6739\n",
      "Epoch 33/400\n"
     ]
    },
    {
     "name": "stdout",
     "output_type": "stream",
     "text": [
      "283/283 [==============================] - 0s 36us/step - loss: 3708.5454 - mean_absolute_error: 51.1405 - mean_squared_error: 3708.5454 - val_loss: 4186.3064 - val_mean_absolute_error: 56.5825 - val_mean_squared_error: 4186.3064\n",
      "Epoch 34/400\n",
      "283/283 [==============================] - 0s 39us/step - loss: 3678.8599 - mean_absolute_error: 51.0087 - mean_squared_error: 3678.8599 - val_loss: 4161.9372 - val_mean_absolute_error: 56.4194 - val_mean_squared_error: 4161.9372\n",
      "Epoch 35/400\n",
      "283/283 [==============================] - 0s 33us/step - loss: 3649.6205 - mean_absolute_error: 50.7627 - mean_squared_error: 3649.6205 - val_loss: 4137.8906 - val_mean_absolute_error: 56.2179 - val_mean_squared_error: 4137.8906\n",
      "Epoch 36/400\n",
      "283/283 [==============================] - 0s 63us/step - loss: 3620.4707 - mean_absolute_error: 50.5219 - mean_squared_error: 3620.4707 - val_loss: 4112.4105 - val_mean_absolute_error: 55.9296 - val_mean_squared_error: 4112.4105\n",
      "Epoch 37/400\n",
      "283/283 [==============================] - 0s 40us/step - loss: 3595.1540 - mean_absolute_error: 50.3175 - mean_squared_error: 3595.1540 - val_loss: 4087.9164 - val_mean_absolute_error: 55.6819 - val_mean_squared_error: 4087.9164\n",
      "Epoch 38/400\n",
      "283/283 [==============================] - 0s 38us/step - loss: 3571.6667 - mean_absolute_error: 50.1038 - mean_squared_error: 3571.6667 - val_loss: 4062.8864 - val_mean_absolute_error: 55.4025 - val_mean_squared_error: 4062.8864\n",
      "Epoch 39/400\n",
      "283/283 [==============================] - 0s 41us/step - loss: 3547.9286 - mean_absolute_error: 49.9323 - mean_squared_error: 3547.9286 - val_loss: 4039.3274 - val_mean_absolute_error: 55.1631 - val_mean_squared_error: 4039.3274\n",
      "Epoch 40/400\n",
      "283/283 [==============================] - 0s 40us/step - loss: 3529.1951 - mean_absolute_error: 49.8005 - mean_squared_error: 3529.1951 - val_loss: 4018.0222 - val_mean_absolute_error: 54.9450 - val_mean_squared_error: 4018.0222\n",
      "Epoch 41/400\n",
      "283/283 [==============================] - 0s 39us/step - loss: 3504.4852 - mean_absolute_error: 49.6135 - mean_squared_error: 3504.4852 - val_loss: 3995.4689 - val_mean_absolute_error: 54.6736 - val_mean_squared_error: 3995.4689\n",
      "Epoch 42/400\n",
      "283/283 [==============================] - 0s 50us/step - loss: 3485.3258 - mean_absolute_error: 49.4719 - mean_squared_error: 3485.3258 - val_loss: 3975.7468 - val_mean_absolute_error: 54.4655 - val_mean_squared_error: 3975.7468\n",
      "Epoch 43/400\n",
      "283/283 [==============================] - 0s 40us/step - loss: 3463.5395 - mean_absolute_error: 49.2941 - mean_squared_error: 3463.5395 - val_loss: 3955.4467 - val_mean_absolute_error: 54.1778 - val_mean_squared_error: 3955.4467\n",
      "Epoch 44/400\n",
      "283/283 [==============================] - 0s 37us/step - loss: 3448.2899 - mean_absolute_error: 49.1419 - mean_squared_error: 3448.2899 - val_loss: 3932.2307 - val_mean_absolute_error: 53.8706 - val_mean_squared_error: 3932.2307\n",
      "Epoch 45/400\n",
      "283/283 [==============================] - 0s 78us/step - loss: 3426.8723 - mean_absolute_error: 48.9654 - mean_squared_error: 3426.8723 - val_loss: 3913.8376 - val_mean_absolute_error: 53.6390 - val_mean_squared_error: 3913.8376\n",
      "Epoch 46/400\n",
      "283/283 [==============================] - 0s 72us/step - loss: 3417.4275 - mean_absolute_error: 48.9070 - mean_squared_error: 3417.4275 - val_loss: 3895.6417 - val_mean_absolute_error: 53.4970 - val_mean_squared_error: 3895.6417\n",
      "Epoch 47/400\n",
      "283/283 [==============================] - 0s 33us/step - loss: 3393.5239 - mean_absolute_error: 48.7191 - mean_squared_error: 3393.5239 - val_loss: 3879.2811 - val_mean_absolute_error: 53.2582 - val_mean_squared_error: 3879.2811\n",
      "Epoch 48/400\n",
      "283/283 [==============================] - 0s 33us/step - loss: 3378.1645 - mean_absolute_error: 48.5842 - mean_squared_error: 3378.1645 - val_loss: 3859.8760 - val_mean_absolute_error: 52.9593 - val_mean_squared_error: 3859.8760\n",
      "Epoch 49/400\n",
      "283/283 [==============================] - 0s 54us/step - loss: 3363.8197 - mean_absolute_error: 48.4557 - mean_squared_error: 3363.8197 - val_loss: 3842.0629 - val_mean_absolute_error: 52.7433 - val_mean_squared_error: 3842.0629\n",
      "Epoch 50/400\n",
      "283/283 [==============================] - 0s 38us/step - loss: 3347.9417 - mean_absolute_error: 48.3273 - mean_squared_error: 3347.9417 - val_loss: 3825.7056 - val_mean_absolute_error: 52.5315 - val_mean_squared_error: 3825.7056\n",
      "Epoch 51/400\n",
      "283/283 [==============================] - 0s 36us/step - loss: 3334.0695 - mean_absolute_error: 48.2006 - mean_squared_error: 3334.0695 - val_loss: 3810.4934 - val_mean_absolute_error: 52.3872 - val_mean_squared_error: 3810.4934\n",
      "Epoch 52/400\n",
      "283/283 [==============================] - 0s 44us/step - loss: 3319.7456 - mean_absolute_error: 48.0717 - mean_squared_error: 3319.7456 - val_loss: 3793.9722 - val_mean_absolute_error: 52.1677 - val_mean_squared_error: 3793.9722\n",
      "Epoch 53/400\n",
      "283/283 [==============================] - 0s 53us/step - loss: 3307.3291 - mean_absolute_error: 47.9619 - mean_squared_error: 3307.3291 - val_loss: 3779.1337 - val_mean_absolute_error: 52.0283 - val_mean_squared_error: 3779.1337\n",
      "Epoch 54/400\n",
      "283/283 [==============================] - 0s 70us/step - loss: 3294.2847 - mean_absolute_error: 47.8513 - mean_squared_error: 3294.2847 - val_loss: 3764.3033 - val_mean_absolute_error: 51.8933 - val_mean_squared_error: 3764.3033\n",
      "Epoch 55/400\n",
      "283/283 [==============================] - 0s 43us/step - loss: 3283.4561 - mean_absolute_error: 47.7578 - mean_squared_error: 3283.4561 - val_loss: 3749.1596 - val_mean_absolute_error: 51.6906 - val_mean_squared_error: 3749.1596\n",
      "Epoch 56/400\n",
      "283/283 [==============================] - 0s 42us/step - loss: 3271.0627 - mean_absolute_error: 47.6343 - mean_squared_error: 3271.0627 - val_loss: 3734.0506 - val_mean_absolute_error: 51.4840 - val_mean_squared_error: 3734.0506\n",
      "Epoch 57/400\n",
      "283/283 [==============================] - 0s 36us/step - loss: 3259.7617 - mean_absolute_error: 47.5258 - mean_squared_error: 3259.7617 - val_loss: 3719.7948 - val_mean_absolute_error: 51.3426 - val_mean_squared_error: 3719.7948\n",
      "Epoch 58/400\n",
      "283/283 [==============================] - 0s 44us/step - loss: 3247.1492 - mean_absolute_error: 47.4228 - mean_squared_error: 3247.1492 - val_loss: 3707.9866 - val_mean_absolute_error: 51.1544 - val_mean_squared_error: 3707.9866\n",
      "Epoch 59/400\n",
      "283/283 [==============================] - 0s 38us/step - loss: 3238.0895 - mean_absolute_error: 47.3148 - mean_squared_error: 3238.0895 - val_loss: 3692.7368 - val_mean_absolute_error: 51.0307 - val_mean_squared_error: 3692.7368\n",
      "Epoch 60/400\n",
      "283/283 [==============================] - 0s 34us/step - loss: 3229.1494 - mean_absolute_error: 47.2214 - mean_squared_error: 3229.1494 - val_loss: 3679.2241 - val_mean_absolute_error: 50.8133 - val_mean_squared_error: 3679.2241\n",
      "Epoch 61/400\n",
      "283/283 [==============================] - 0s 39us/step - loss: 3216.6494 - mean_absolute_error: 47.1111 - mean_squared_error: 3216.6494 - val_loss: 3665.8301 - val_mean_absolute_error: 50.6639 - val_mean_squared_error: 3665.8301\n",
      "Epoch 62/400\n",
      "283/283 [==============================] - 0s 35us/step - loss: 3207.4258 - mean_absolute_error: 47.0162 - mean_squared_error: 3207.4258 - val_loss: 3651.8103 - val_mean_absolute_error: 50.5530 - val_mean_squared_error: 3651.8103\n",
      "Epoch 63/400\n",
      "283/283 [==============================] - 0s 32us/step - loss: 3198.8773 - mean_absolute_error: 46.9345 - mean_squared_error: 3198.8773 - val_loss: 3640.5269 - val_mean_absolute_error: 50.4001 - val_mean_squared_error: 3640.5269\n",
      "Epoch 64/400\n",
      "283/283 [==============================] - 0s 32us/step - loss: 3188.8699 - mean_absolute_error: 46.8317 - mean_squared_error: 3188.8699 - val_loss: 3629.6148 - val_mean_absolute_error: 50.3087 - val_mean_squared_error: 3629.6148\n",
      "Epoch 65/400\n",
      "283/283 [==============================] - 0s 32us/step - loss: 3179.9856 - mean_absolute_error: 46.7424 - mean_squared_error: 3179.9856 - val_loss: 3617.6606 - val_mean_absolute_error: 50.1393 - val_mean_squared_error: 3617.6606\n",
      "Epoch 66/400\n",
      "283/283 [==============================] - 0s 32us/step - loss: 3171.6997 - mean_absolute_error: 46.6477 - mean_squared_error: 3171.6997 - val_loss: 3605.7125 - val_mean_absolute_error: 49.9936 - val_mean_squared_error: 3605.7125\n"
     ]
    },
    {
     "name": "stdout",
     "output_type": "stream",
     "text": [
      "Epoch 67/400\n",
      "283/283 [==============================] - 0s 32us/step - loss: 3164.0002 - mean_absolute_error: 46.5624 - mean_squared_error: 3164.0002 - val_loss: 3594.2112 - val_mean_absolute_error: 49.8291 - val_mean_squared_error: 3594.2112\n",
      "Epoch 68/400\n",
      "283/283 [==============================] - 0s 32us/step - loss: 3155.5588 - mean_absolute_error: 46.4794 - mean_squared_error: 3155.5588 - val_loss: 3581.9562 - val_mean_absolute_error: 49.6935 - val_mean_squared_error: 3581.9562\n",
      "Epoch 69/400\n",
      "283/283 [==============================] - 0s 31us/step - loss: 3149.6022 - mean_absolute_error: 46.4118 - mean_squared_error: 3149.6022 - val_loss: 3571.6845 - val_mean_absolute_error: 49.5842 - val_mean_squared_error: 3571.6845\n",
      "Epoch 70/400\n",
      "283/283 [==============================] - 0s 33us/step - loss: 3142.8039 - mean_absolute_error: 46.3461 - mean_squared_error: 3142.8039 - val_loss: 3559.0168 - val_mean_absolute_error: 49.4280 - val_mean_squared_error: 3559.0168\n",
      "Epoch 71/400\n",
      "283/283 [==============================] - 0s 36us/step - loss: 3135.3030 - mean_absolute_error: 46.2810 - mean_squared_error: 3135.3030 - val_loss: 3547.4070 - val_mean_absolute_error: 49.3662 - val_mean_squared_error: 3547.4070\n",
      "Epoch 72/400\n",
      "283/283 [==============================] - 0s 31us/step - loss: 3128.7992 - mean_absolute_error: 46.2055 - mean_squared_error: 3128.7992 - val_loss: 3538.5539 - val_mean_absolute_error: 49.1699 - val_mean_squared_error: 3538.5539\n",
      "Epoch 73/400\n",
      "283/283 [==============================] - 0s 34us/step - loss: 3119.8780 - mean_absolute_error: 46.1145 - mean_squared_error: 3119.8780 - val_loss: 3529.6694 - val_mean_absolute_error: 49.0447 - val_mean_squared_error: 3529.6694\n",
      "Epoch 74/400\n",
      "283/283 [==============================] - 0s 35us/step - loss: 3114.3437 - mean_absolute_error: 46.0588 - mean_squared_error: 3114.3437 - val_loss: 3517.7396 - val_mean_absolute_error: 48.9533 - val_mean_squared_error: 3517.7396\n",
      "Epoch 75/400\n",
      "283/283 [==============================] - 0s 29us/step - loss: 3107.5188 - mean_absolute_error: 45.9909 - mean_squared_error: 3107.5188 - val_loss: 3508.3267 - val_mean_absolute_error: 48.8170 - val_mean_squared_error: 3508.3267\n",
      "Epoch 76/400\n",
      "283/283 [==============================] - 0s 29us/step - loss: 3102.8406 - mean_absolute_error: 45.9345 - mean_squared_error: 3102.8406 - val_loss: 3500.1847 - val_mean_absolute_error: 48.6803 - val_mean_squared_error: 3500.1847\n",
      "Epoch 77/400\n",
      "283/283 [==============================] - 0s 30us/step - loss: 3095.9852 - mean_absolute_error: 45.8574 - mean_squared_error: 3095.9852 - val_loss: 3491.3639 - val_mean_absolute_error: 48.5629 - val_mean_squared_error: 3491.3639\n",
      "Epoch 78/400\n",
      "283/283 [==============================] - 0s 30us/step - loss: 3090.8546 - mean_absolute_error: 45.7971 - mean_squared_error: 3090.8546 - val_loss: 3481.5079 - val_mean_absolute_error: 48.4397 - val_mean_squared_error: 3481.5079\n",
      "Epoch 79/400\n",
      "283/283 [==============================] - 0s 32us/step - loss: 3086.1705 - mean_absolute_error: 45.7522 - mean_squared_error: 3086.1705 - val_loss: 3472.0362 - val_mean_absolute_error: 48.3729 - val_mean_squared_error: 3472.0362\n",
      "Epoch 80/400\n",
      "283/283 [==============================] - 0s 32us/step - loss: 3082.9035 - mean_absolute_error: 45.7228 - mean_squared_error: 3082.9035 - val_loss: 3459.5479 - val_mean_absolute_error: 48.3297 - val_mean_squared_error: 3459.5479\n",
      "Epoch 81/400\n",
      "283/283 [==============================] - 0s 36us/step - loss: 3075.3924 - mean_absolute_error: 45.6411 - mean_squared_error: 3075.3924 - val_loss: 3452.8563 - val_mean_absolute_error: 48.1688 - val_mean_squared_error: 3452.8563\n",
      "Epoch 82/400\n",
      "283/283 [==============================] - 0s 32us/step - loss: 3069.6962 - mean_absolute_error: 45.5643 - mean_squared_error: 3069.6962 - val_loss: 3445.3969 - val_mean_absolute_error: 48.0434 - val_mean_squared_error: 3445.3969\n",
      "Epoch 83/400\n",
      "283/283 [==============================] - 0s 32us/step - loss: 3065.4834 - mean_absolute_error: 45.5055 - mean_squared_error: 3065.4834 - val_loss: 3437.3910 - val_mean_absolute_error: 47.9143 - val_mean_squared_error: 3437.3910\n",
      "Epoch 84/400\n",
      "283/283 [==============================] - 0s 33us/step - loss: 3062.0850 - mean_absolute_error: 45.4485 - mean_squared_error: 3062.0850 - val_loss: 3431.7191 - val_mean_absolute_error: 47.7543 - val_mean_squared_error: 3431.7191\n",
      "Epoch 85/400\n",
      "283/283 [==============================] - 0s 32us/step - loss: 3056.1362 - mean_absolute_error: 45.3923 - mean_squared_error: 3056.1362 - val_loss: 3423.2083 - val_mean_absolute_error: 47.6719 - val_mean_squared_error: 3423.2083\n",
      "Epoch 86/400\n",
      "283/283 [==============================] - 0s 36us/step - loss: 3053.3461 - mean_absolute_error: 45.3492 - mean_squared_error: 3053.3461 - val_loss: 3414.8583 - val_mean_absolute_error: 47.5903 - val_mean_squared_error: 3414.8583\n",
      "Epoch 87/400\n",
      "283/283 [==============================] - 0s 35us/step - loss: 3050.0499 - mean_absolute_error: 45.3058 - mean_squared_error: 3050.0499 - val_loss: 3405.7547 - val_mean_absolute_error: 47.5319 - val_mean_squared_error: 3405.7547\n",
      "Epoch 88/400\n",
      "283/283 [==============================] - 0s 30us/step - loss: 3044.5986 - mean_absolute_error: 45.2509 - mean_squared_error: 3044.5986 - val_loss: 3398.3960 - val_mean_absolute_error: 47.4433 - val_mean_squared_error: 3398.3960\n",
      "Epoch 89/400\n",
      "283/283 [==============================] - 0s 29us/step - loss: 3041.0855 - mean_absolute_error: 45.2083 - mean_squared_error: 3041.0855 - val_loss: 3392.1718 - val_mean_absolute_error: 47.3326 - val_mean_squared_error: 3392.1718\n",
      "Epoch 90/400\n",
      "283/283 [==============================] - 0s 28us/step - loss: 3038.7000 - mean_absolute_error: 45.1806 - mean_squared_error: 3038.7000 - val_loss: 3383.7058 - val_mean_absolute_error: 47.2739 - val_mean_squared_error: 3383.7058\n",
      "Epoch 91/400\n",
      "283/283 [==============================] - 0s 29us/step - loss: 3034.6379 - mean_absolute_error: 45.1301 - mean_squared_error: 3034.6379 - val_loss: 3377.5997 - val_mean_absolute_error: 47.0937 - val_mean_squared_error: 3377.5997\n",
      "Epoch 92/400\n",
      "283/283 [==============================] - 0s 30us/step - loss: 3031.0660 - mean_absolute_error: 45.0912 - mean_squared_error: 3031.0660 - val_loss: 3373.0450 - val_mean_absolute_error: 46.9791 - val_mean_squared_error: 3373.0450\n",
      "Epoch 93/400\n",
      "283/283 [==============================] - 0s 31us/step - loss: 3027.2353 - mean_absolute_error: 45.0441 - mean_squared_error: 3027.2353 - val_loss: 3367.6215 - val_mean_absolute_error: 46.8931 - val_mean_squared_error: 3367.6215\n",
      "Epoch 94/400\n",
      "283/283 [==============================] - 0s 31us/step - loss: 3024.7214 - mean_absolute_error: 45.0231 - mean_squared_error: 3024.7214 - val_loss: 3358.6429 - val_mean_absolute_error: 46.8495 - val_mean_squared_error: 3358.6429\n",
      "Epoch 95/400\n",
      "283/283 [==============================] - 0s 32us/step - loss: 3021.4267 - mean_absolute_error: 44.9902 - mean_squared_error: 3021.4267 - val_loss: 3350.4755 - val_mean_absolute_error: 46.7837 - val_mean_squared_error: 3350.4755\n",
      "Epoch 96/400\n",
      "283/283 [==============================] - 0s 30us/step - loss: 3019.5300 - mean_absolute_error: 44.9701 - mean_squared_error: 3019.5300 - val_loss: 3348.0104 - val_mean_absolute_error: 46.6720 - val_mean_squared_error: 3348.0104\n",
      "Epoch 97/400\n",
      "283/283 [==============================] - 0s 44us/step - loss: 3015.7873 - mean_absolute_error: 44.9214 - mean_squared_error: 3015.7873 - val_loss: 3338.4970 - val_mean_absolute_error: 46.6136 - val_mean_squared_error: 3338.4970\n",
      "Epoch 98/400\n",
      "283/283 [==============================] - 0s 31us/step - loss: 3013.3799 - mean_absolute_error: 44.9026 - mean_squared_error: 3013.3799 - val_loss: 3330.6763 - val_mean_absolute_error: 46.5693 - val_mean_squared_error: 3330.6763\n",
      "Epoch 99/400\n",
      "283/283 [==============================] - 0s 31us/step - loss: 3013.7504 - mean_absolute_error: 44.8954 - mean_squared_error: 3013.7504 - val_loss: 3322.6734 - val_mean_absolute_error: 46.5164 - val_mean_squared_error: 3322.6734\n",
      "Epoch 100/400\n",
      "283/283 [==============================] - 0s 31us/step - loss: 3007.7472 - mean_absolute_error: 44.8285 - mean_squared_error: 3007.7472 - val_loss: 3324.3250 - val_mean_absolute_error: 46.3550 - val_mean_squared_error: 3324.3250\n"
     ]
    },
    {
     "name": "stdout",
     "output_type": "stream",
     "text": [
      "Epoch 101/400\n",
      "283/283 [==============================] - 0s 33us/step - loss: 3011.0798 - mean_absolute_error: 44.8592 - mean_squared_error: 3011.0798 - val_loss: 3323.9260 - val_mean_absolute_error: 46.2283 - val_mean_squared_error: 3323.9260\n",
      "Epoch 102/400\n",
      "283/283 [==============================] - 0s 30us/step - loss: 3003.4242 - mean_absolute_error: 44.7895 - mean_squared_error: 3003.4242 - val_loss: 3313.3703 - val_mean_absolute_error: 46.2169 - val_mean_squared_error: 3313.3703\n",
      "Epoch 103/400\n",
      "283/283 [==============================] - 0s 33us/step - loss: 3002.4840 - mean_absolute_error: 44.7881 - mean_squared_error: 3002.4840 - val_loss: 3310.0541 - val_mean_absolute_error: 46.1521 - val_mean_squared_error: 3310.0541\n",
      "Epoch 104/400\n",
      "283/283 [==============================] - 0s 34us/step - loss: 2999.3981 - mean_absolute_error: 44.7550 - mean_squared_error: 2999.3981 - val_loss: 3300.1549 - val_mean_absolute_error: 46.1208 - val_mean_squared_error: 3300.1549\n",
      "Epoch 105/400\n",
      "283/283 [==============================] - 0s 32us/step - loss: 2997.7125 - mean_absolute_error: 44.7437 - mean_squared_error: 2997.7125 - val_loss: 3295.0884 - val_mean_absolute_error: 46.0279 - val_mean_squared_error: 3295.0884\n",
      "Epoch 106/400\n",
      "283/283 [==============================] - 0s 63us/step - loss: 2994.7727 - mean_absolute_error: 44.7069 - mean_squared_error: 2994.7727 - val_loss: 3288.7035 - val_mean_absolute_error: 45.9715 - val_mean_squared_error: 3288.7035\n",
      "Epoch 107/400\n",
      "283/283 [==============================] - 0s 33us/step - loss: 2993.6058 - mean_absolute_error: 44.6961 - mean_squared_error: 2993.6058 - val_loss: 3283.7649 - val_mean_absolute_error: 45.8959 - val_mean_squared_error: 3283.7649\n",
      "Epoch 108/400\n",
      "283/283 [==============================] - 0s 33us/step - loss: 2990.3858 - mean_absolute_error: 44.6704 - mean_squared_error: 2990.3858 - val_loss: 3281.3527 - val_mean_absolute_error: 45.8645 - val_mean_squared_error: 3281.3527\n",
      "Epoch 109/400\n",
      "283/283 [==============================] - 0s 32us/step - loss: 2989.1913 - mean_absolute_error: 44.6559 - mean_squared_error: 2989.1913 - val_loss: 3278.1180 - val_mean_absolute_error: 45.8006 - val_mean_squared_error: 3278.1180\n",
      "Epoch 110/400\n",
      "283/283 [==============================] - 0s 33us/step - loss: 2988.1233 - mean_absolute_error: 44.6485 - mean_squared_error: 2988.1233 - val_loss: 3273.9983 - val_mean_absolute_error: 45.7429 - val_mean_squared_error: 3273.9983\n",
      "Epoch 111/400\n",
      "283/283 [==============================] - 0s 33us/step - loss: 2987.9471 - mean_absolute_error: 44.6445 - mean_squared_error: 2987.9471 - val_loss: 3268.8421 - val_mean_absolute_error: 45.6515 - val_mean_squared_error: 3268.8421\n",
      "Epoch 112/400\n",
      "283/283 [==============================] - 0s 33us/step - loss: 2984.0910 - mean_absolute_error: 44.5994 - mean_squared_error: 2984.0910 - val_loss: 3263.1829 - val_mean_absolute_error: 45.6211 - val_mean_squared_error: 3263.1829\n",
      "Epoch 113/400\n",
      "283/283 [==============================] - 0s 34us/step - loss: 2983.9106 - mean_absolute_error: 44.5914 - mean_squared_error: 2983.9106 - val_loss: 3255.1373 - val_mean_absolute_error: 45.5835 - val_mean_squared_error: 3255.1373\n",
      "Epoch 114/400\n",
      "283/283 [==============================] - 0s 31us/step - loss: 2982.2558 - mean_absolute_error: 44.5896 - mean_squared_error: 2982.2558 - val_loss: 3254.3398 - val_mean_absolute_error: 45.5087 - val_mean_squared_error: 3254.3398\n",
      "Epoch 115/400\n",
      "283/283 [==============================] - 0s 39us/step - loss: 2979.7644 - mean_absolute_error: 44.5629 - mean_squared_error: 2979.7644 - val_loss: 3249.1156 - val_mean_absolute_error: 45.4496 - val_mean_squared_error: 3249.1156\n",
      "Epoch 116/400\n",
      "283/283 [==============================] - 0s 32us/step - loss: 2980.1510 - mean_absolute_error: 44.5693 - mean_squared_error: 2980.1510 - val_loss: 3249.8448 - val_mean_absolute_error: 45.3676 - val_mean_squared_error: 3249.8448\n",
      "Epoch 117/400\n",
      "283/283 [==============================] - 0s 34us/step - loss: 2976.7380 - mean_absolute_error: 44.5338 - mean_squared_error: 2976.7380 - val_loss: 3245.6515 - val_mean_absolute_error: 45.3279 - val_mean_squared_error: 3245.6515\n",
      "Epoch 118/400\n",
      "283/283 [==============================] - 0s 58us/step - loss: 2975.8442 - mean_absolute_error: 44.5199 - mean_squared_error: 2975.8442 - val_loss: 3237.8252 - val_mean_absolute_error: 45.3172 - val_mean_squared_error: 3237.8252\n",
      "Epoch 119/400\n",
      "283/283 [==============================] - 0s 33us/step - loss: 2974.7575 - mean_absolute_error: 44.5189 - mean_squared_error: 2974.7575 - val_loss: 3233.7999 - val_mean_absolute_error: 45.2777 - val_mean_squared_error: 3233.7999\n",
      "Epoch 120/400\n",
      "283/283 [==============================] - 0s 32us/step - loss: 2974.3085 - mean_absolute_error: 44.5102 - mean_squared_error: 2974.3085 - val_loss: 3231.2861 - val_mean_absolute_error: 45.2241 - val_mean_squared_error: 3231.2861\n",
      "Epoch 121/400\n",
      "283/283 [==============================] - 0s 31us/step - loss: 2974.0138 - mean_absolute_error: 44.4967 - mean_squared_error: 2974.0138 - val_loss: 3224.5250 - val_mean_absolute_error: 45.1922 - val_mean_squared_error: 3224.5250\n",
      "Epoch 122/400\n",
      "283/283 [==============================] - 0s 31us/step - loss: 2972.1326 - mean_absolute_error: 44.4921 - mean_squared_error: 2972.1326 - val_loss: 3219.4019 - val_mean_absolute_error: 45.1490 - val_mean_squared_error: 3219.4019\n",
      "Epoch 123/400\n",
      "283/283 [==============================] - 0s 37us/step - loss: 2970.6921 - mean_absolute_error: 44.4830 - mean_squared_error: 2970.6921 - val_loss: 3224.2904 - val_mean_absolute_error: 45.0641 - val_mean_squared_error: 3224.2904\n",
      "Epoch 124/400\n",
      "283/283 [==============================] - 0s 34us/step - loss: 2971.1399 - mean_absolute_error: 44.4782 - mean_squared_error: 2971.1399 - val_loss: 3225.0032 - val_mean_absolute_error: 45.0136 - val_mean_squared_error: 3225.0032\n",
      "Epoch 125/400\n",
      "283/283 [==============================] - 0s 33us/step - loss: 2969.1712 - mean_absolute_error: 44.4398 - mean_squared_error: 2969.1712 - val_loss: 3214.2143 - val_mean_absolute_error: 45.0212 - val_mean_squared_error: 3214.2143\n",
      "Epoch 126/400\n",
      "283/283 [==============================] - 0s 32us/step - loss: 2967.7237 - mean_absolute_error: 44.4479 - mean_squared_error: 2967.7237 - val_loss: 3211.7454 - val_mean_absolute_error: 44.9710 - val_mean_squared_error: 3211.7454\n",
      "Epoch 127/400\n",
      "283/283 [==============================] - 0s 34us/step - loss: 2967.1713 - mean_absolute_error: 44.4244 - mean_squared_error: 2967.1713 - val_loss: 3209.6244 - val_mean_absolute_error: 44.9195 - val_mean_squared_error: 3209.6244\n",
      "Epoch 128/400\n",
      "283/283 [==============================] - 0s 33us/step - loss: 2965.4061 - mean_absolute_error: 44.4006 - mean_squared_error: 2965.4061 - val_loss: 3204.4409 - val_mean_absolute_error: 44.9033 - val_mean_squared_error: 3204.4409\n",
      "Epoch 129/400\n",
      "283/283 [==============================] - 0s 32us/step - loss: 2966.2897 - mean_absolute_error: 44.4246 - mean_squared_error: 2966.2897 - val_loss: 3197.9992 - val_mean_absolute_error: 44.8790 - val_mean_squared_error: 3197.9992\n",
      "Epoch 130/400\n",
      "283/283 [==============================] - 0s 35us/step - loss: 2965.3084 - mean_absolute_error: 44.4181 - mean_squared_error: 2965.3084 - val_loss: 3193.5677 - val_mean_absolute_error: 44.8406 - val_mean_squared_error: 3193.5677\n",
      "Epoch 131/400\n",
      "283/283 [==============================] - 0s 33us/step - loss: 2965.2200 - mean_absolute_error: 44.4038 - mean_squared_error: 2965.2200 - val_loss: 3199.3007 - val_mean_absolute_error: 44.7515 - val_mean_squared_error: 3199.3007\n",
      "Epoch 132/400\n",
      "283/283 [==============================] - 0s 32us/step - loss: 2961.8548 - mean_absolute_error: 44.3645 - mean_squared_error: 2961.8548 - val_loss: 3198.4917 - val_mean_absolute_error: 44.7103 - val_mean_squared_error: 3198.4917\n",
      "Epoch 133/400\n",
      "283/283 [==============================] - 0s 33us/step - loss: 2962.8820 - mean_absolute_error: 44.3586 - mean_squared_error: 2962.8820 - val_loss: 3197.8663 - val_mean_absolute_error: 44.6699 - val_mean_squared_error: 3197.8663\n",
      "Epoch 134/400\n"
     ]
    },
    {
     "name": "stdout",
     "output_type": "stream",
     "text": [
      "283/283 [==============================] - 0s 33us/step - loss: 2961.4767 - mean_absolute_error: 44.3543 - mean_squared_error: 2961.4767 - val_loss: 3194.3742 - val_mean_absolute_error: 44.6457 - val_mean_squared_error: 3194.3742\n",
      "Epoch 135/400\n",
      "283/283 [==============================] - 0s 29us/step - loss: 2961.2189 - mean_absolute_error: 44.3796 - mean_squared_error: 2961.2189 - val_loss: 3186.2915 - val_mean_absolute_error: 44.6504 - val_mean_squared_error: 3186.2915\n",
      "Epoch 136/400\n",
      "283/283 [==============================] - 0s 30us/step - loss: 2960.0488 - mean_absolute_error: 44.3589 - mean_squared_error: 2960.0488 - val_loss: 3179.7683 - val_mean_absolute_error: 44.6326 - val_mean_squared_error: 3179.7683\n",
      "Epoch 137/400\n",
      "283/283 [==============================] - 0s 28us/step - loss: 2961.6478 - mean_absolute_error: 44.3460 - mean_squared_error: 2961.6478 - val_loss: 3183.7465 - val_mean_absolute_error: 44.5646 - val_mean_squared_error: 3183.7465\n",
      "Epoch 138/400\n",
      "283/283 [==============================] - 0s 28us/step - loss: 2958.6328 - mean_absolute_error: 44.3285 - mean_squared_error: 2958.6328 - val_loss: 3181.1544 - val_mean_absolute_error: 44.5346 - val_mean_squared_error: 3181.1544\n",
      "Epoch 139/400\n",
      "283/283 [==============================] - 0s 28us/step - loss: 2959.5882 - mean_absolute_error: 44.3531 - mean_squared_error: 2959.5882 - val_loss: 3173.0735 - val_mean_absolute_error: 44.5323 - val_mean_squared_error: 3173.0735\n",
      "Epoch 140/400\n",
      "283/283 [==============================] - 0s 28us/step - loss: 2963.8239 - mean_absolute_error: 44.3595 - mean_squared_error: 2963.8239 - val_loss: 3179.4186 - val_mean_absolute_error: 44.4590 - val_mean_squared_error: 3179.4186\n",
      "Epoch 141/400\n",
      "283/283 [==============================] - 0s 29us/step - loss: 2963.7147 - mean_absolute_error: 44.3561 - mean_squared_error: 2963.7147 - val_loss: 3167.0332 - val_mean_absolute_error: 44.4818 - val_mean_squared_error: 3167.0332\n",
      "Epoch 142/400\n",
      "283/283 [==============================] - 0s 30us/step - loss: 2956.4075 - mean_absolute_error: 44.3201 - mean_squared_error: 2956.4075 - val_loss: 3168.5407 - val_mean_absolute_error: 44.4372 - val_mean_squared_error: 3168.5407\n",
      "Epoch 143/400\n",
      "283/283 [==============================] - 0s 30us/step - loss: 2957.9295 - mean_absolute_error: 44.3356 - mean_squared_error: 2957.9295 - val_loss: 3175.8646 - val_mean_absolute_error: 44.3664 - val_mean_squared_error: 3175.8646\n",
      "Epoch 144/400\n",
      "283/283 [==============================] - 0s 29us/step - loss: 2956.6203 - mean_absolute_error: 44.2969 - mean_squared_error: 2956.6203 - val_loss: 3170.4315 - val_mean_absolute_error: 44.3643 - val_mean_squared_error: 3170.4315\n",
      "Epoch 145/400\n",
      "283/283 [==============================] - 0s 33us/step - loss: 2956.1132 - mean_absolute_error: 44.2977 - mean_squared_error: 2956.1132 - val_loss: 3169.6959 - val_mean_absolute_error: 44.3287 - val_mean_squared_error: 3169.6959\n",
      "Epoch 146/400\n",
      "283/283 [==============================] - 0s 38us/step - loss: 2958.4384 - mean_absolute_error: 44.3139 - mean_squared_error: 2958.4384 - val_loss: 3160.3331 - val_mean_absolute_error: 44.3275 - val_mean_squared_error: 3160.3331\n",
      "Epoch 147/400\n",
      "283/283 [==============================] - 0s 36us/step - loss: 2958.6324 - mean_absolute_error: 44.3225 - mean_squared_error: 2958.6324 - val_loss: 3153.3438 - val_mean_absolute_error: 44.3345 - val_mean_squared_error: 3153.3438\n",
      "Epoch 148/400\n",
      "283/283 [==============================] - 0s 40us/step - loss: 2954.0619 - mean_absolute_error: 44.2872 - mean_squared_error: 2954.0619 - val_loss: 3155.4698 - val_mean_absolute_error: 44.2932 - val_mean_squared_error: 3155.4698\n",
      "Epoch 149/400\n",
      "283/283 [==============================] - 0s 30us/step - loss: 2956.4791 - mean_absolute_error: 44.3018 - mean_squared_error: 2956.4791 - val_loss: 3164.6891 - val_mean_absolute_error: 44.2066 - val_mean_squared_error: 3164.6891\n",
      "Epoch 150/400\n",
      "283/283 [==============================] - 0s 32us/step - loss: 2952.9593 - mean_absolute_error: 44.2420 - mean_squared_error: 2952.9593 - val_loss: 3159.9473 - val_mean_absolute_error: 44.1896 - val_mean_squared_error: 3159.9473\n",
      "Epoch 151/400\n",
      "283/283 [==============================] - 0s 47us/step - loss: 2953.6333 - mean_absolute_error: 44.2453 - mean_squared_error: 2953.6333 - val_loss: 3154.6571 - val_mean_absolute_error: 44.1770 - val_mean_squared_error: 3154.6571\n",
      "Epoch 152/400\n",
      "283/283 [==============================] - 0s 31us/step - loss: 2953.0089 - mean_absolute_error: 44.2553 - mean_squared_error: 2953.0089 - val_loss: 3150.6296 - val_mean_absolute_error: 44.1774 - val_mean_squared_error: 3150.6296\n",
      "Epoch 153/400\n",
      "283/283 [==============================] - 0s 31us/step - loss: 2954.7621 - mean_absolute_error: 44.2819 - mean_squared_error: 2954.7621 - val_loss: 3141.8746 - val_mean_absolute_error: 44.2129 - val_mean_squared_error: 3141.8746\n",
      "Epoch 154/400\n",
      "283/283 [==============================] - 0s 37us/step - loss: 2953.4066 - mean_absolute_error: 44.2551 - mean_squared_error: 2953.4066 - val_loss: 3149.5401 - val_mean_absolute_error: 44.1375 - val_mean_squared_error: 3149.5401\n",
      "Epoch 155/400\n",
      "283/283 [==============================] - 0s 36us/step - loss: 2950.4504 - mean_absolute_error: 44.2327 - mean_squared_error: 2950.4504 - val_loss: 3149.0197 - val_mean_absolute_error: 44.1111 - val_mean_squared_error: 3149.0197\n",
      "Epoch 156/400\n",
      "283/283 [==============================] - 0s 31us/step - loss: 2950.6464 - mean_absolute_error: 44.2332 - mean_squared_error: 2950.6464 - val_loss: 3147.8743 - val_mean_absolute_error: 44.0830 - val_mean_squared_error: 3147.8743\n",
      "Epoch 157/400\n",
      "283/283 [==============================] - 0s 34us/step - loss: 2950.4915 - mean_absolute_error: 44.2317 - mean_squared_error: 2950.4915 - val_loss: 3145.3941 - val_mean_absolute_error: 44.0771 - val_mean_squared_error: 3145.3941\n",
      "Epoch 158/400\n",
      "283/283 [==============================] - 0s 37us/step - loss: 2950.2608 - mean_absolute_error: 44.2246 - mean_squared_error: 2950.2608 - val_loss: 3145.2497 - val_mean_absolute_error: 44.0326 - val_mean_squared_error: 3145.2497\n",
      "Epoch 159/400\n",
      "283/283 [==============================] - 0s 35us/step - loss: 2951.5288 - mean_absolute_error: 44.2418 - mean_squared_error: 2951.5288 - val_loss: 3140.3130 - val_mean_absolute_error: 44.0464 - val_mean_squared_error: 3140.3130\n",
      "Epoch 160/400\n",
      "283/283 [==============================] - 0s 31us/step - loss: 2953.1906 - mean_absolute_error: 44.2294 - mean_squared_error: 2953.1906 - val_loss: 3148.0794 - val_mean_absolute_error: 43.9869 - val_mean_squared_error: 3148.0794\n",
      "Epoch 161/400\n",
      "283/283 [==============================] - 0s 30us/step - loss: 2953.8835 - mean_absolute_error: 44.2580 - mean_squared_error: 2953.8835 - val_loss: 3137.0419 - val_mean_absolute_error: 44.0288 - val_mean_squared_error: 3137.0419\n",
      "Epoch 162/400\n",
      "283/283 [==============================] - 0s 29us/step - loss: 2949.1722 - mean_absolute_error: 44.2131 - mean_squared_error: 2949.1722 - val_loss: 3139.1551 - val_mean_absolute_error: 43.9748 - val_mean_squared_error: 3139.1551\n",
      "Epoch 163/400\n",
      "283/283 [==============================] - 0s 30us/step - loss: 2949.4942 - mean_absolute_error: 44.1985 - mean_squared_error: 2949.4942 - val_loss: 3139.0852 - val_mean_absolute_error: 43.9613 - val_mean_squared_error: 3139.0852\n",
      "Epoch 164/400\n",
      "283/283 [==============================] - 0s 31us/step - loss: 2949.4247 - mean_absolute_error: 44.2014 - mean_squared_error: 2949.4247 - val_loss: 3130.2725 - val_mean_absolute_error: 43.9897 - val_mean_squared_error: 3130.2725\n",
      "Epoch 165/400\n",
      "283/283 [==============================] - 0s 29us/step - loss: 2950.7764 - mean_absolute_error: 44.2055 - mean_squared_error: 2950.7764 - val_loss: 3133.5241 - val_mean_absolute_error: 43.9398 - val_mean_squared_error: 3133.5241\n",
      "Epoch 166/400\n",
      "283/283 [==============================] - 0s 30us/step - loss: 2951.1268 - mean_absolute_error: 44.2064 - mean_squared_error: 2951.1268 - val_loss: 3128.5419 - val_mean_absolute_error: 43.9338 - val_mean_squared_error: 3128.5419\n",
      "Epoch 167/400\n",
      "283/283 [==============================] - 0s 34us/step - loss: 2948.8649 - mean_absolute_error: 44.2037 - mean_squared_error: 2948.8649 - val_loss: 3135.6775 - val_mean_absolute_error: 43.8807 - val_mean_squared_error: 3135.6775\n"
     ]
    },
    {
     "name": "stdout",
     "output_type": "stream",
     "text": [
      "Epoch 168/400\n",
      "283/283 [==============================] - 0s 28us/step - loss: 2946.4891 - mean_absolute_error: 44.1589 - mean_squared_error: 2946.4891 - val_loss: 3129.6937 - val_mean_absolute_error: 43.8819 - val_mean_squared_error: 3129.6937\n",
      "Epoch 169/400\n",
      "283/283 [==============================] - 0s 30us/step - loss: 2947.8976 - mean_absolute_error: 44.1876 - mean_squared_error: 2947.8976 - val_loss: 3125.7359 - val_mean_absolute_error: 43.8822 - val_mean_squared_error: 3125.7359\n",
      "Epoch 170/400\n",
      "283/283 [==============================] - 0s 30us/step - loss: 2946.1393 - mean_absolute_error: 44.1692 - mean_squared_error: 2946.1393 - val_loss: 3126.5568 - val_mean_absolute_error: 43.8576 - val_mean_squared_error: 3126.5568\n",
      "Epoch 171/400\n",
      "283/283 [==============================] - 0s 34us/step - loss: 2946.2546 - mean_absolute_error: 44.1474 - mean_squared_error: 2946.2546 - val_loss: 3127.6961 - val_mean_absolute_error: 43.8136 - val_mean_squared_error: 3127.6961\n",
      "Epoch 172/400\n",
      "283/283 [==============================] - 0s 32us/step - loss: 2947.3498 - mean_absolute_error: 44.1426 - mean_squared_error: 2947.3498 - val_loss: 3131.2558 - val_mean_absolute_error: 43.7859 - val_mean_squared_error: 3131.2558\n",
      "Epoch 173/400\n",
      "283/283 [==============================] - 0s 35us/step - loss: 2948.6696 - mean_absolute_error: 44.1822 - mean_squared_error: 2948.6696 - val_loss: 3118.2957 - val_mean_absolute_error: 43.8210 - val_mean_squared_error: 3118.2957\n",
      "Epoch 174/400\n",
      "283/283 [==============================] - 0s 33us/step - loss: 2946.5255 - mean_absolute_error: 44.1475 - mean_squared_error: 2946.5255 - val_loss: 3119.2754 - val_mean_absolute_error: 43.7958 - val_mean_squared_error: 3119.2754\n",
      "Epoch 175/400\n",
      "283/283 [==============================] - 0s 38us/step - loss: 2946.3636 - mean_absolute_error: 44.1533 - mean_squared_error: 2946.3636 - val_loss: 3116.8940 - val_mean_absolute_error: 43.8006 - val_mean_squared_error: 3116.8940\n",
      "Epoch 176/400\n",
      "283/283 [==============================] - 0s 37us/step - loss: 2944.9725 - mean_absolute_error: 44.1475 - mean_squared_error: 2944.9725 - val_loss: 3117.7604 - val_mean_absolute_error: 43.7822 - val_mean_squared_error: 3117.7604\n",
      "Epoch 177/400\n",
      "283/283 [==============================] - 0s 42us/step - loss: 2946.3294 - mean_absolute_error: 44.1337 - mean_squared_error: 2946.3294 - val_loss: 3122.3561 - val_mean_absolute_error: 43.7305 - val_mean_squared_error: 3122.3561\n",
      "Epoch 178/400\n",
      "283/283 [==============================] - 0s 34us/step - loss: 2946.3858 - mean_absolute_error: 44.1395 - mean_squared_error: 2946.3858 - val_loss: 3115.2203 - val_mean_absolute_error: 43.7391 - val_mean_squared_error: 3115.2203\n",
      "Epoch 179/400\n",
      "283/283 [==============================] - 0s 33us/step - loss: 2944.6266 - mean_absolute_error: 44.1170 - mean_squared_error: 2944.6266 - val_loss: 3121.4922 - val_mean_absolute_error: 43.6982 - val_mean_squared_error: 3121.4922\n",
      "Epoch 180/400\n",
      "283/283 [==============================] - 0s 32us/step - loss: 2943.7997 - mean_absolute_error: 44.1157 - mean_squared_error: 2943.7997 - val_loss: 3117.4305 - val_mean_absolute_error: 43.7133 - val_mean_squared_error: 3117.4305\n",
      "Epoch 181/400\n",
      "283/283 [==============================] - 0s 32us/step - loss: 2944.8302 - mean_absolute_error: 44.1243 - mean_squared_error: 2944.8302 - val_loss: 3116.3889 - val_mean_absolute_error: 43.6956 - val_mean_squared_error: 3116.3889\n",
      "Epoch 182/400\n",
      "283/283 [==============================] - 0s 32us/step - loss: 2944.2626 - mean_absolute_error: 44.1197 - mean_squared_error: 2944.2626 - val_loss: 3121.1026 - val_mean_absolute_error: 43.6704 - val_mean_squared_error: 3121.1026\n",
      "Epoch 183/400\n",
      "283/283 [==============================] - 0s 34us/step - loss: 2944.8416 - mean_absolute_error: 44.1274 - mean_squared_error: 2944.8416 - val_loss: 3111.1971 - val_mean_absolute_error: 43.6914 - val_mean_squared_error: 3111.1971\n",
      "Epoch 184/400\n",
      "283/283 [==============================] - 0s 32us/step - loss: 2942.9986 - mean_absolute_error: 44.1101 - mean_squared_error: 2942.9986 - val_loss: 3112.8481 - val_mean_absolute_error: 43.6762 - val_mean_squared_error: 3112.8481\n",
      "Epoch 185/400\n",
      "283/283 [==============================] - 0s 34us/step - loss: 2945.0877 - mean_absolute_error: 44.1089 - mean_squared_error: 2945.0877 - val_loss: 3116.4948 - val_mean_absolute_error: 43.6567 - val_mean_squared_error: 3116.4948\n",
      "Epoch 186/400\n",
      "283/283 [==============================] - 0s 37us/step - loss: 2942.9115 - mean_absolute_error: 44.0970 - mean_squared_error: 2942.9115 - val_loss: 3114.5235 - val_mean_absolute_error: 43.6480 - val_mean_squared_error: 3114.5235\n",
      "Epoch 187/400\n",
      "283/283 [==============================] - 0s 35us/step - loss: 2944.9400 - mean_absolute_error: 44.1259 - mean_squared_error: 2944.9400 - val_loss: 3106.5491 - val_mean_absolute_error: 43.6695 - val_mean_squared_error: 3106.5491\n",
      "Epoch 188/400\n",
      "283/283 [==============================] - 0s 31us/step - loss: 2942.4651 - mean_absolute_error: 44.1043 - mean_squared_error: 2942.4651 - val_loss: 3108.4433 - val_mean_absolute_error: 43.6365 - val_mean_squared_error: 3108.4433\n",
      "Epoch 189/400\n",
      "283/283 [==============================] - 0s 32us/step - loss: 2943.4508 - mean_absolute_error: 44.0943 - mean_squared_error: 2943.4508 - val_loss: 3109.0458 - val_mean_absolute_error: 43.6259 - val_mean_squared_error: 3109.0458\n",
      "Epoch 190/400\n",
      "283/283 [==============================] - 0s 30us/step - loss: 2942.7585 - mean_absolute_error: 44.0942 - mean_squared_error: 2942.7585 - val_loss: 3108.5281 - val_mean_absolute_error: 43.6125 - val_mean_squared_error: 3108.5281\n",
      "Epoch 191/400\n",
      "283/283 [==============================] - 0s 32us/step - loss: 2941.7100 - mean_absolute_error: 44.0949 - mean_squared_error: 2941.7100 - val_loss: 3115.7792 - val_mean_absolute_error: 43.5860 - val_mean_squared_error: 3115.7792\n",
      "Epoch 192/400\n",
      "283/283 [==============================] - 0s 34us/step - loss: 2943.2258 - mean_absolute_error: 44.0861 - mean_squared_error: 2943.2258 - val_loss: 3109.2881 - val_mean_absolute_error: 43.6092 - val_mean_squared_error: 3109.2881\n",
      "Epoch 193/400\n",
      "283/283 [==============================] - 0s 35us/step - loss: 2945.1677 - mean_absolute_error: 44.1282 - mean_squared_error: 2945.1677 - val_loss: 3109.2707 - val_mean_absolute_error: 43.5973 - val_mean_squared_error: 3109.2707\n",
      "Epoch 194/400\n",
      "283/283 [==============================] - 0s 30us/step - loss: 2945.4576 - mean_absolute_error: 44.0768 - mean_squared_error: 2945.4576 - val_loss: 3118.9859 - val_mean_absolute_error: 43.5664 - val_mean_squared_error: 3118.9859\n",
      "Epoch 195/400\n",
      "283/283 [==============================] - 0s 31us/step - loss: 2946.5268 - mean_absolute_error: 44.1383 - mean_squared_error: 2946.5268 - val_loss: 3103.5304 - val_mean_absolute_error: 43.6104 - val_mean_squared_error: 3103.5304\n",
      "Epoch 196/400\n",
      "283/283 [==============================] - 0s 35us/step - loss: 2940.4994 - mean_absolute_error: 44.0875 - mean_squared_error: 2940.4994 - val_loss: 3103.8590 - val_mean_absolute_error: 43.5931 - val_mean_squared_error: 3103.8590\n",
      "Epoch 197/400\n",
      "283/283 [==============================] - 0s 35us/step - loss: 2941.7002 - mean_absolute_error: 44.0832 - mean_squared_error: 2941.7002 - val_loss: 3108.5674 - val_mean_absolute_error: 43.5681 - val_mean_squared_error: 3108.5674\n",
      "Epoch 198/400\n",
      "283/283 [==============================] - 0s 37us/step - loss: 2944.3951 - mean_absolute_error: 44.0974 - mean_squared_error: 2944.3951 - val_loss: 3116.0459 - val_mean_absolute_error: 43.5521 - val_mean_squared_error: 3116.0459\n",
      "Epoch 199/400\n",
      "283/283 [==============================] - 0s 43us/step - loss: 2942.1408 - mean_absolute_error: 44.0980 - mean_squared_error: 2942.1408 - val_loss: 3105.8755 - val_mean_absolute_error: 43.5634 - val_mean_squared_error: 3105.8755\n",
      "Epoch 200/400\n",
      "283/283 [==============================] - 0s 32us/step - loss: 2940.7865 - mean_absolute_error: 44.0730 - mean_squared_error: 2940.7865 - val_loss: 3106.8098 - val_mean_absolute_error: 43.5522 - val_mean_squared_error: 3106.8098\n",
      "Epoch 201/400\n"
     ]
    },
    {
     "name": "stdout",
     "output_type": "stream",
     "text": [
      "283/283 [==============================] - 0s 33us/step - loss: 2940.7918 - mean_absolute_error: 44.0798 - mean_squared_error: 2940.7918 - val_loss: 3105.9197 - val_mean_absolute_error: 43.5434 - val_mean_squared_error: 3105.9197\n",
      "Epoch 202/400\n",
      "283/283 [==============================] - 0s 33us/step - loss: 2948.5258 - mean_absolute_error: 44.1358 - mean_squared_error: 2948.5258 - val_loss: 3091.2099 - val_mean_absolute_error: 43.6341 - val_mean_squared_error: 3091.2099\n",
      "Epoch 203/400\n",
      "283/283 [==============================] - 0s 31us/step - loss: 2941.1923 - mean_absolute_error: 44.0980 - mean_squared_error: 2941.1923 - val_loss: 3102.0067 - val_mean_absolute_error: 43.5354 - val_mean_squared_error: 3102.0067\n",
      "Epoch 204/400\n",
      "283/283 [==============================] - 0s 37us/step - loss: 2939.2540 - mean_absolute_error: 44.0574 - mean_squared_error: 2939.2540 - val_loss: 3105.8391 - val_mean_absolute_error: 43.5144 - val_mean_squared_error: 3105.8391\n",
      "Epoch 205/400\n",
      "283/283 [==============================] - 0s 39us/step - loss: 2939.0445 - mean_absolute_error: 44.0422 - mean_squared_error: 2939.0445 - val_loss: 3104.4830 - val_mean_absolute_error: 43.5157 - val_mean_squared_error: 3104.4830\n",
      "Epoch 206/400\n",
      "283/283 [==============================] - 0s 37us/step - loss: 2943.0703 - mean_absolute_error: 44.0608 - mean_squared_error: 2943.0703 - val_loss: 3107.7669 - val_mean_absolute_error: 43.5005 - val_mean_squared_error: 3107.7669\n",
      "Epoch 207/400\n",
      "283/283 [==============================] - 0s 45us/step - loss: 2941.1007 - mean_absolute_error: 44.0535 - mean_squared_error: 2941.1007 - val_loss: 3096.5346 - val_mean_absolute_error: 43.5337 - val_mean_squared_error: 3096.5346\n",
      "Epoch 208/400\n",
      "283/283 [==============================] - 0s 32us/step - loss: 2939.5886 - mean_absolute_error: 44.0686 - mean_squared_error: 2939.5886 - val_loss: 3095.9234 - val_mean_absolute_error: 43.5372 - val_mean_squared_error: 3095.9234\n",
      "Epoch 209/400\n",
      "283/283 [==============================] - 0s 30us/step - loss: 2942.9634 - mean_absolute_error: 44.0805 - mean_squared_error: 2942.9634 - val_loss: 3102.5715 - val_mean_absolute_error: 43.5077 - val_mean_squared_error: 3102.5715\n",
      "Epoch 210/400\n",
      "283/283 [==============================] - 0s 28us/step - loss: 2941.3769 - mean_absolute_error: 44.0866 - mean_squared_error: 2941.3769 - val_loss: 3093.1304 - val_mean_absolute_error: 43.5329 - val_mean_squared_error: 3093.1304\n",
      "Epoch 211/400\n",
      "283/283 [==============================] - 0s 30us/step - loss: 2941.0906 - mean_absolute_error: 44.0775 - mean_squared_error: 2941.0906 - val_loss: 3103.0340 - val_mean_absolute_error: 43.4846 - val_mean_squared_error: 3103.0340\n",
      "Epoch 212/400\n",
      "283/283 [==============================] - 0s 30us/step - loss: 2938.6351 - mean_absolute_error: 44.0456 - mean_squared_error: 2938.6351 - val_loss: 3100.1279 - val_mean_absolute_error: 43.4867 - val_mean_squared_error: 3100.1279\n",
      "Epoch 213/400\n",
      "283/283 [==============================] - 0s 34us/step - loss: 2941.7587 - mean_absolute_error: 44.0648 - mean_squared_error: 2941.7587 - val_loss: 3108.3758 - val_mean_absolute_error: 43.4613 - val_mean_squared_error: 3108.3758\n",
      "Epoch 214/400\n",
      "283/283 [==============================] - 0s 36us/step - loss: 2938.5703 - mean_absolute_error: 44.0437 - mean_squared_error: 2938.5703 - val_loss: 3101.8110 - val_mean_absolute_error: 43.4647 - val_mean_squared_error: 3101.8110\n",
      "Epoch 215/400\n",
      "283/283 [==============================] - 0s 28us/step - loss: 2937.7964 - mean_absolute_error: 44.0352 - mean_squared_error: 2937.7964 - val_loss: 3100.7646 - val_mean_absolute_error: 43.4716 - val_mean_squared_error: 3100.7646\n",
      "Epoch 216/400\n",
      "283/283 [==============================] - 0s 29us/step - loss: 2940.2005 - mean_absolute_error: 44.0777 - mean_squared_error: 2940.2005 - val_loss: 3089.8677 - val_mean_absolute_error: 43.5127 - val_mean_squared_error: 3089.8677\n",
      "Epoch 217/400\n",
      "283/283 [==============================] - 0s 30us/step - loss: 2940.5520 - mean_absolute_error: 44.0843 - mean_squared_error: 2940.5520 - val_loss: 3084.8069 - val_mean_absolute_error: 43.5410 - val_mean_squared_error: 3084.8069\n",
      "Epoch 218/400\n",
      "283/283 [==============================] - 0s 32us/step - loss: 2939.8143 - mean_absolute_error: 44.0616 - mean_squared_error: 2939.8143 - val_loss: 3096.1291 - val_mean_absolute_error: 43.4683 - val_mean_squared_error: 3096.1291\n",
      "Epoch 219/400\n",
      "283/283 [==============================] - 0s 54us/step - loss: 2938.1758 - mean_absolute_error: 44.0609 - mean_squared_error: 2938.1758 - val_loss: 3092.1216 - val_mean_absolute_error: 43.4807 - val_mean_squared_error: 3092.1216\n",
      "Epoch 220/400\n",
      "283/283 [==============================] - 0s 32us/step - loss: 2935.9798 - mean_absolute_error: 44.0355 - mean_squared_error: 2935.9798 - val_loss: 3094.7311 - val_mean_absolute_error: 43.4621 - val_mean_squared_error: 3094.7311\n",
      "Epoch 221/400\n",
      "283/283 [==============================] - 0s 31us/step - loss: 2936.9800 - mean_absolute_error: 44.0294 - mean_squared_error: 2936.9800 - val_loss: 3094.6433 - val_mean_absolute_error: 43.4547 - val_mean_squared_error: 3094.6433\n",
      "Epoch 222/400\n",
      "283/283 [==============================] - 0s 55us/step - loss: 2936.6256 - mean_absolute_error: 44.0252 - mean_squared_error: 2936.6256 - val_loss: 3101.3988 - val_mean_absolute_error: 43.4344 - val_mean_squared_error: 3101.3988\n",
      "Epoch 223/400\n",
      "283/283 [==============================] - 0s 58us/step - loss: 2939.0472 - mean_absolute_error: 44.0316 - mean_squared_error: 2939.0472 - val_loss: 3103.7943 - val_mean_absolute_error: 43.4356 - val_mean_squared_error: 3103.7943\n",
      "Epoch 224/400\n",
      "283/283 [==============================] - 0s 31us/step - loss: 2936.3484 - mean_absolute_error: 44.0216 - mean_squared_error: 2936.3484 - val_loss: 3099.6692 - val_mean_absolute_error: 43.4393 - val_mean_squared_error: 3099.6692\n",
      "Epoch 225/400\n",
      "283/283 [==============================] - 0s 32us/step - loss: 2936.1478 - mean_absolute_error: 44.0264 - mean_squared_error: 2936.1478 - val_loss: 3094.8574 - val_mean_absolute_error: 43.4434 - val_mean_squared_error: 3094.8574\n",
      "Epoch 226/400\n",
      "283/283 [==============================] - 0s 35us/step - loss: 2937.8323 - mean_absolute_error: 44.0457 - mean_squared_error: 2937.8323 - val_loss: 3094.9038 - val_mean_absolute_error: 43.4418 - val_mean_squared_error: 3094.9038\n",
      "Epoch 227/400\n",
      "283/283 [==============================] - 0s 32us/step - loss: 2938.8330 - mean_absolute_error: 44.0568 - mean_squared_error: 2938.8330 - val_loss: 3081.6101 - val_mean_absolute_error: 43.5077 - val_mean_squared_error: 3081.6101\n",
      "Epoch 228/400\n",
      "283/283 [==============================] - 0s 32us/step - loss: 2939.6210 - mean_absolute_error: 44.0761 - mean_squared_error: 2939.6210 - val_loss: 3090.5567 - val_mean_absolute_error: 43.4495 - val_mean_squared_error: 3090.5567\n",
      "Epoch 229/400\n",
      "283/283 [==============================] - 0s 31us/step - loss: 2937.1644 - mean_absolute_error: 44.0584 - mean_squared_error: 2937.1644 - val_loss: 3087.2750 - val_mean_absolute_error: 43.4599 - val_mean_squared_error: 3087.2750\n",
      "Epoch 230/400\n",
      "283/283 [==============================] - 0s 33us/step - loss: 2939.6070 - mean_absolute_error: 44.0627 - mean_squared_error: 2939.6070 - val_loss: 3093.9220 - val_mean_absolute_error: 43.4236 - val_mean_squared_error: 3093.9220\n",
      "Epoch 231/400\n",
      "283/283 [==============================] - 0s 33us/step - loss: 2936.5161 - mean_absolute_error: 44.0410 - mean_squared_error: 2936.5161 - val_loss: 3091.8667 - val_mean_absolute_error: 43.4231 - val_mean_squared_error: 3091.8667\n",
      "Epoch 232/400\n",
      "283/283 [==============================] - 0s 31us/step - loss: 2936.2471 - mean_absolute_error: 44.0323 - mean_squared_error: 2936.2471 - val_loss: 3092.0524 - val_mean_absolute_error: 43.4332 - val_mean_squared_error: 3092.0524\n",
      "Epoch 233/400\n",
      "283/283 [==============================] - 0s 32us/step - loss: 2935.3893 - mean_absolute_error: 44.0229 - mean_squared_error: 2935.3893 - val_loss: 3085.8125 - val_mean_absolute_error: 43.4476 - val_mean_squared_error: 3085.8125\n",
      "Epoch 234/400\n",
      "283/283 [==============================] - 0s 31us/step - loss: 2935.0617 - mean_absolute_error: 44.0244 - mean_squared_error: 2935.0617 - val_loss: 3087.3129 - val_mean_absolute_error: 43.4539 - val_mean_squared_error: 3087.3129\n"
     ]
    },
    {
     "name": "stdout",
     "output_type": "stream",
     "text": [
      "Epoch 235/400\n",
      "283/283 [==============================] - 0s 34us/step - loss: 2933.9734 - mean_absolute_error: 44.0210 - mean_squared_error: 2933.9734 - val_loss: 3089.3530 - val_mean_absolute_error: 43.4372 - val_mean_squared_error: 3089.3530\n",
      "Epoch 236/400\n",
      "283/283 [==============================] - 0s 34us/step - loss: 2934.9533 - mean_absolute_error: 44.0296 - mean_squared_error: 2934.9533 - val_loss: 3087.2138 - val_mean_absolute_error: 43.4444 - val_mean_squared_error: 3087.2138\n",
      "Epoch 237/400\n",
      "283/283 [==============================] - 0s 30us/step - loss: 2933.5951 - mean_absolute_error: 44.0167 - mean_squared_error: 2933.5951 - val_loss: 3092.2639 - val_mean_absolute_error: 43.4101 - val_mean_squared_error: 3092.2639\n",
      "Epoch 238/400\n",
      "283/283 [==============================] - 0s 37us/step - loss: 2936.0976 - mean_absolute_error: 44.0131 - mean_squared_error: 2936.0976 - val_loss: 3096.8320 - val_mean_absolute_error: 43.4134 - val_mean_squared_error: 3096.8320\n",
      "Epoch 239/400\n",
      "283/283 [==============================] - 0s 33us/step - loss: 2936.9486 - mean_absolute_error: 44.0148 - mean_squared_error: 2936.9486 - val_loss: 3098.8313 - val_mean_absolute_error: 43.3922 - val_mean_squared_error: 3098.8313\n",
      "Epoch 240/400\n",
      "283/283 [==============================] - 0s 35us/step - loss: 2933.8514 - mean_absolute_error: 43.9954 - mean_squared_error: 2933.8514 - val_loss: 3090.2941 - val_mean_absolute_error: 43.4166 - val_mean_squared_error: 3090.2941\n",
      "Epoch 241/400\n",
      "283/283 [==============================] - 0s 31us/step - loss: 2935.4231 - mean_absolute_error: 44.0268 - mean_squared_error: 2935.4231 - val_loss: 3085.3205 - val_mean_absolute_error: 43.4304 - val_mean_squared_error: 3085.3205\n",
      "Epoch 242/400\n",
      "283/283 [==============================] - 0s 31us/step - loss: 2932.6605 - mean_absolute_error: 44.0146 - mean_squared_error: 2932.6605 - val_loss: 3088.7793 - val_mean_absolute_error: 43.4195 - val_mean_squared_error: 3088.7793\n",
      "Epoch 243/400\n",
      "283/283 [==============================] - 0s 31us/step - loss: 2932.8149 - mean_absolute_error: 44.0120 - mean_squared_error: 2932.8149 - val_loss: 3093.2401 - val_mean_absolute_error: 43.3914 - val_mean_squared_error: 3093.2401\n",
      "Epoch 244/400\n",
      "283/283 [==============================] - 0s 31us/step - loss: 2933.2768 - mean_absolute_error: 44.0121 - mean_squared_error: 2933.2768 - val_loss: 3088.6313 - val_mean_absolute_error: 43.4122 - val_mean_squared_error: 3088.6313\n",
      "Epoch 245/400\n",
      "283/283 [==============================] - 0s 31us/step - loss: 2934.8973 - mean_absolute_error: 44.0245 - mean_squared_error: 2934.8973 - val_loss: 3099.4328 - val_mean_absolute_error: 43.3838 - val_mean_squared_error: 3099.4328\n",
      "Epoch 246/400\n",
      "283/283 [==============================] - 0s 36us/step - loss: 2932.3405 - mean_absolute_error: 43.9962 - mean_squared_error: 2932.3405 - val_loss: 3090.7176 - val_mean_absolute_error: 43.3940 - val_mean_squared_error: 3090.7176\n",
      "Epoch 247/400\n",
      "283/283 [==============================] - 0s 31us/step - loss: 2933.5429 - mean_absolute_error: 43.9979 - mean_squared_error: 2933.5429 - val_loss: 3089.6930 - val_mean_absolute_error: 43.3923 - val_mean_squared_error: 3089.6930\n",
      "Epoch 248/400\n",
      "283/283 [==============================] - 0s 37us/step - loss: 2931.4016 - mean_absolute_error: 43.9818 - mean_squared_error: 2931.4016 - val_loss: 3087.5765 - val_mean_absolute_error: 43.3926 - val_mean_squared_error: 3087.5765\n",
      "Epoch 249/400\n",
      "283/283 [==============================] - 0s 32us/step - loss: 2932.8832 - mean_absolute_error: 44.0090 - mean_squared_error: 2932.8832 - val_loss: 3083.3884 - val_mean_absolute_error: 43.4089 - val_mean_squared_error: 3083.3884\n",
      "Epoch 250/400\n",
      "283/283 [==============================] - 0s 33us/step - loss: 2932.1218 - mean_absolute_error: 44.0094 - mean_squared_error: 2932.1218 - val_loss: 3084.1249 - val_mean_absolute_error: 43.4064 - val_mean_squared_error: 3084.1249\n",
      "Epoch 251/400\n",
      "283/283 [==============================] - 0s 33us/step - loss: 2938.1221 - mean_absolute_error: 44.0431 - mean_squared_error: 2938.1221 - val_loss: 3098.4635 - val_mean_absolute_error: 43.3524 - val_mean_squared_error: 3098.4635\n",
      "Epoch 252/400\n",
      "283/283 [==============================] - 0s 38us/step - loss: 2933.5454 - mean_absolute_error: 43.9877 - mean_squared_error: 2933.5454 - val_loss: 3097.2516 - val_mean_absolute_error: 43.3518 - val_mean_squared_error: 3097.2516\n",
      "Epoch 253/400\n",
      "283/283 [==============================] - 0s 37us/step - loss: 2930.4730 - mean_absolute_error: 43.9495 - mean_squared_error: 2930.4730 - val_loss: 3087.5010 - val_mean_absolute_error: 43.3964 - val_mean_squared_error: 3087.5010\n",
      "Epoch 254/400\n",
      "283/283 [==============================] - 0s 36us/step - loss: 2933.5262 - mean_absolute_error: 44.0343 - mean_squared_error: 2933.5262 - val_loss: 3077.7796 - val_mean_absolute_error: 43.4396 - val_mean_squared_error: 3077.7796\n",
      "Epoch 255/400\n",
      "283/283 [==============================] - 0s 35us/step - loss: 2936.4893 - mean_absolute_error: 44.0245 - mean_squared_error: 2936.4893 - val_loss: 3091.1707 - val_mean_absolute_error: 43.3723 - val_mean_squared_error: 3091.1707\n",
      "Epoch 256/400\n",
      "283/283 [==============================] - 0s 31us/step - loss: 2930.2713 - mean_absolute_error: 43.9798 - mean_squared_error: 2930.2713 - val_loss: 3087.7588 - val_mean_absolute_error: 43.3874 - val_mean_squared_error: 3087.7588\n",
      "Epoch 257/400\n",
      "283/283 [==============================] - 0s 32us/step - loss: 2931.5672 - mean_absolute_error: 43.9711 - mean_squared_error: 2931.5672 - val_loss: 3093.1470 - val_mean_absolute_error: 43.3733 - val_mean_squared_error: 3093.1470\n",
      "Epoch 258/400\n",
      "283/283 [==============================] - 0s 34us/step - loss: 2933.5361 - mean_absolute_error: 44.0061 - mean_squared_error: 2933.5361 - val_loss: 3081.6842 - val_mean_absolute_error: 43.4230 - val_mean_squared_error: 3081.6842\n",
      "Epoch 259/400\n",
      "283/283 [==============================] - 0s 33us/step - loss: 2930.8841 - mean_absolute_error: 44.0069 - mean_squared_error: 2930.8841 - val_loss: 3081.8318 - val_mean_absolute_error: 43.4110 - val_mean_squared_error: 3081.8318\n",
      "Epoch 260/400\n",
      "283/283 [==============================] - 0s 32us/step - loss: 2929.6365 - mean_absolute_error: 43.9747 - mean_squared_error: 2929.6365 - val_loss: 3092.3441 - val_mean_absolute_error: 43.3582 - val_mean_squared_error: 3092.3441\n",
      "Epoch 261/400\n",
      "283/283 [==============================] - 0s 32us/step - loss: 2930.2853 - mean_absolute_error: 43.9685 - mean_squared_error: 2930.2853 - val_loss: 3091.8835 - val_mean_absolute_error: 43.3551 - val_mean_squared_error: 3091.8835\n",
      "Epoch 262/400\n",
      "283/283 [==============================] - 0s 31us/step - loss: 2930.1414 - mean_absolute_error: 43.9699 - mean_squared_error: 2930.1414 - val_loss: 3093.9187 - val_mean_absolute_error: 43.3628 - val_mean_squared_error: 3093.9187\n",
      "Epoch 263/400\n",
      "283/283 [==============================] - 0s 32us/step - loss: 2930.2522 - mean_absolute_error: 43.9652 - mean_squared_error: 2930.2522 - val_loss: 3092.6361 - val_mean_absolute_error: 43.3442 - val_mean_squared_error: 3092.6361\n",
      "Epoch 264/400\n",
      "283/283 [==============================] - 0s 31us/step - loss: 2936.5926 - mean_absolute_error: 44.0398 - mean_squared_error: 2936.5926 - val_loss: 3076.6067 - val_mean_absolute_error: 43.4222 - val_mean_squared_error: 3076.6067\n",
      "Epoch 265/400\n",
      "283/283 [==============================] - 0s 31us/step - loss: 2928.0279 - mean_absolute_error: 43.9734 - mean_squared_error: 2928.0279 - val_loss: 3084.8004 - val_mean_absolute_error: 43.3730 - val_mean_squared_error: 3084.8004\n",
      "Epoch 266/400\n",
      "283/283 [==============================] - 0s 32us/step - loss: 2929.4787 - mean_absolute_error: 43.9650 - mean_squared_error: 2929.4787 - val_loss: 3086.8866 - val_mean_absolute_error: 43.3640 - val_mean_squared_error: 3086.8866\n",
      "Epoch 267/400\n",
      "283/283 [==============================] - 0s 31us/step - loss: 2928.0345 - mean_absolute_error: 43.9520 - mean_squared_error: 2928.0345 - val_loss: 3094.0158 - val_mean_absolute_error: 43.3359 - val_mean_squared_error: 3094.0158\n",
      "Epoch 268/400\n"
     ]
    },
    {
     "name": "stdout",
     "output_type": "stream",
     "text": [
      "283/283 [==============================] - 0s 40us/step - loss: 2929.2271 - mean_absolute_error: 43.9502 - mean_squared_error: 2929.2271 - val_loss: 3095.0317 - val_mean_absolute_error: 43.3432 - val_mean_squared_error: 3095.0317\n",
      "Epoch 269/400\n",
      "283/283 [==============================] - 0s 33us/step - loss: 2930.1807 - mean_absolute_error: 43.9551 - mean_squared_error: 2930.1807 - val_loss: 3081.2332 - val_mean_absolute_error: 43.3852 - val_mean_squared_error: 3081.2332\n",
      "Epoch 270/400\n",
      "283/283 [==============================] - 0s 33us/step - loss: 2931.6175 - mean_absolute_error: 43.9868 - mean_squared_error: 2931.6175 - val_loss: 3095.3864 - val_mean_absolute_error: 43.3523 - val_mean_squared_error: 3095.3864\n",
      "Epoch 271/400\n",
      "283/283 [==============================] - 0s 33us/step - loss: 2943.3165 - mean_absolute_error: 44.0727 - mean_squared_error: 2943.3165 - val_loss: 3073.2085 - val_mean_absolute_error: 43.4320 - val_mean_squared_error: 3073.2085\n",
      "Epoch 272/400\n",
      "283/283 [==============================] - 0s 31us/step - loss: 2931.0070 - mean_absolute_error: 43.9813 - mean_squared_error: 2931.0070 - val_loss: 3083.7001 - val_mean_absolute_error: 43.3640 - val_mean_squared_error: 3083.7001\n",
      "Epoch 273/400\n",
      "283/283 [==============================] - 0s 32us/step - loss: 2932.6039 - mean_absolute_error: 43.9551 - mean_squared_error: 2932.6039 - val_loss: 3096.4462 - val_mean_absolute_error: 43.3402 - val_mean_squared_error: 3096.4462\n",
      "Epoch 274/400\n",
      "283/283 [==============================] - 0s 31us/step - loss: 2931.7670 - mean_absolute_error: 43.9605 - mean_squared_error: 2931.7670 - val_loss: 3094.9547 - val_mean_absolute_error: 43.3373 - val_mean_squared_error: 3094.9547\n",
      "Epoch 275/400\n",
      "283/283 [==============================] - 0s 32us/step - loss: 2927.9009 - mean_absolute_error: 43.9815 - mean_squared_error: 2927.9009 - val_loss: 3078.1715 - val_mean_absolute_error: 43.4086 - val_mean_squared_error: 3078.1715\n",
      "Epoch 276/400\n",
      "283/283 [==============================] - 0s 32us/step - loss: 2926.6077 - mean_absolute_error: 43.9670 - mean_squared_error: 2926.6077 - val_loss: 3075.4573 - val_mean_absolute_error: 43.4217 - val_mean_squared_error: 3075.4573\n",
      "Epoch 277/400\n",
      "283/283 [==============================] - 0s 31us/step - loss: 2927.0764 - mean_absolute_error: 43.9664 - mean_squared_error: 2927.0764 - val_loss: 3082.4380 - val_mean_absolute_error: 43.3888 - val_mean_squared_error: 3082.4380\n",
      "Epoch 278/400\n",
      "283/283 [==============================] - 0s 32us/step - loss: 2927.5632 - mean_absolute_error: 43.9326 - mean_squared_error: 2927.5632 - val_loss: 3090.0099 - val_mean_absolute_error: 43.3521 - val_mean_squared_error: 3090.0099\n",
      "Epoch 279/400\n",
      "283/283 [==============================] - 0s 32us/step - loss: 2930.2036 - mean_absolute_error: 43.9892 - mean_squared_error: 2930.2036 - val_loss: 3077.5542 - val_mean_absolute_error: 43.4017 - val_mean_squared_error: 3077.5542\n",
      "Epoch 280/400\n",
      "283/283 [==============================] - 0s 33us/step - loss: 2924.1550 - mean_absolute_error: 43.9512 - mean_squared_error: 2924.1550 - val_loss: 3082.8880 - val_mean_absolute_error: 43.3630 - val_mean_squared_error: 3082.8880\n",
      "Epoch 281/400\n",
      "283/283 [==============================] - 0s 30us/step - loss: 2925.3801 - mean_absolute_error: 43.9412 - mean_squared_error: 2925.3801 - val_loss: 3085.1879 - val_mean_absolute_error: 43.3446 - val_mean_squared_error: 3085.1879\n",
      "Epoch 282/400\n",
      "283/283 [==============================] - 0s 32us/step - loss: 2924.9146 - mean_absolute_error: 43.9238 - mean_squared_error: 2924.9146 - val_loss: 3088.6053 - val_mean_absolute_error: 43.3244 - val_mean_squared_error: 3088.6053\n",
      "Epoch 283/400\n",
      "283/283 [==============================] - 0s 32us/step - loss: 2942.2617 - mean_absolute_error: 44.0720 - mean_squared_error: 2942.2617 - val_loss: 3112.6727 - val_mean_absolute_error: 43.3472 - val_mean_squared_error: 3112.6727\n",
      "Epoch 284/400\n",
      "283/283 [==============================] - 0s 31us/step - loss: 2925.3048 - mean_absolute_error: 43.9101 - mean_squared_error: 2925.3048 - val_loss: 3088.1829 - val_mean_absolute_error: 43.3364 - val_mean_squared_error: 3088.1829\n",
      "Epoch 285/400\n",
      "283/283 [==============================] - 0s 32us/step - loss: 2923.4674 - mean_absolute_error: 43.9238 - mean_squared_error: 2923.4674 - val_loss: 3077.8139 - val_mean_absolute_error: 43.3921 - val_mean_squared_error: 3077.8139\n",
      "Epoch 286/400\n",
      "283/283 [==============================] - 0s 38us/step - loss: 2927.7584 - mean_absolute_error: 43.9752 - mean_squared_error: 2927.7584 - val_loss: 3073.8294 - val_mean_absolute_error: 43.4210 - val_mean_squared_error: 3073.8294\n",
      "Epoch 287/400\n",
      "283/283 [==============================] - 0s 35us/step - loss: 2929.9701 - mean_absolute_error: 44.0062 - mean_squared_error: 2929.9701 - val_loss: 3091.5684 - val_mean_absolute_error: 43.3245 - val_mean_squared_error: 3091.5684\n",
      "Epoch 288/400\n",
      "283/283 [==============================] - 0s 34us/step - loss: 2925.1402 - mean_absolute_error: 43.9423 - mean_squared_error: 2925.1402 - val_loss: 3079.1057 - val_mean_absolute_error: 43.3728 - val_mean_squared_error: 3079.1057\n",
      "Epoch 289/400\n",
      "283/283 [==============================] - 0s 33us/step - loss: 2923.1650 - mean_absolute_error: 43.9313 - mean_squared_error: 2923.1650 - val_loss: 3080.4076 - val_mean_absolute_error: 43.3587 - val_mean_squared_error: 3080.4076\n",
      "Epoch 290/400\n",
      "283/283 [==============================] - 0s 32us/step - loss: 2926.1477 - mean_absolute_error: 43.9549 - mean_squared_error: 2926.1477 - val_loss: 3080.2157 - val_mean_absolute_error: 43.3678 - val_mean_squared_error: 3080.2157\n",
      "Epoch 291/400\n",
      "283/283 [==============================] - 0s 32us/step - loss: 2922.7018 - mean_absolute_error: 43.9015 - mean_squared_error: 2922.7018 - val_loss: 3089.7964 - val_mean_absolute_error: 43.3309 - val_mean_squared_error: 3089.7964\n",
      "Epoch 292/400\n",
      "283/283 [==============================] - 0s 30us/step - loss: 2922.3374 - mean_absolute_error: 43.8987 - mean_squared_error: 2922.3374 - val_loss: 3087.0145 - val_mean_absolute_error: 43.3285 - val_mean_squared_error: 3087.0145\n",
      "Epoch 293/400\n",
      "283/283 [==============================] - 0s 30us/step - loss: 2922.3316 - mean_absolute_error: 43.9007 - mean_squared_error: 2922.3316 - val_loss: 3088.6730 - val_mean_absolute_error: 43.3187 - val_mean_squared_error: 3088.6730\n",
      "Epoch 294/400\n",
      "283/283 [==============================] - 0s 32us/step - loss: 2922.4929 - mean_absolute_error: 43.9020 - mean_squared_error: 2922.4929 - val_loss: 3091.3574 - val_mean_absolute_error: 43.3314 - val_mean_squared_error: 3091.3574\n",
      "Epoch 295/400\n",
      "283/283 [==============================] - 0s 32us/step - loss: 2922.3470 - mean_absolute_error: 43.9007 - mean_squared_error: 2922.3470 - val_loss: 3089.6672 - val_mean_absolute_error: 43.3380 - val_mean_squared_error: 3089.6672\n",
      "Epoch 296/400\n",
      "283/283 [==============================] - 0s 30us/step - loss: 2921.1271 - mean_absolute_error: 43.8863 - mean_squared_error: 2921.1271 - val_loss: 3088.5430 - val_mean_absolute_error: 43.3334 - val_mean_squared_error: 3088.5430\n",
      "Epoch 297/400\n",
      "283/283 [==============================] - 0s 31us/step - loss: 2920.9338 - mean_absolute_error: 43.8988 - mean_squared_error: 2920.9338 - val_loss: 3081.8304 - val_mean_absolute_error: 43.3570 - val_mean_squared_error: 3081.8304\n",
      "Epoch 298/400\n",
      "283/283 [==============================] - 0s 30us/step - loss: 2921.4174 - mean_absolute_error: 43.9049 - mean_squared_error: 2921.4174 - val_loss: 3081.7267 - val_mean_absolute_error: 43.3470 - val_mean_squared_error: 3081.7267\n",
      "Epoch 299/400\n",
      "283/283 [==============================] - 0s 32us/step - loss: 2922.3632 - mean_absolute_error: 43.9234 - mean_squared_error: 2922.3632 - val_loss: 3083.2054 - val_mean_absolute_error: 43.3451 - val_mean_squared_error: 3083.2054\n",
      "Epoch 300/400\n",
      "283/283 [==============================] - 0s 31us/step - loss: 2923.3895 - mean_absolute_error: 43.9299 - mean_squared_error: 2923.3895 - val_loss: 3084.3999 - val_mean_absolute_error: 43.3495 - val_mean_squared_error: 3084.3999\n",
      "Epoch 301/400\n",
      "283/283 [==============================] - 0s 32us/step - loss: 2922.5457 - mean_absolute_error: 43.9067 - mean_squared_error: 2922.5457 - val_loss: 3083.9149 - val_mean_absolute_error: 43.3574 - val_mean_squared_error: 3083.9149\n"
     ]
    },
    {
     "name": "stdout",
     "output_type": "stream",
     "text": [
      "Epoch 302/400\n",
      "283/283 [==============================] - 0s 32us/step - loss: 2920.6486 - mean_absolute_error: 43.9003 - mean_squared_error: 2920.6486 - val_loss: 3090.8613 - val_mean_absolute_error: 43.3228 - val_mean_squared_error: 3090.8613\n",
      "Epoch 303/400\n",
      "283/283 [==============================] - 0s 30us/step - loss: 2920.6364 - mean_absolute_error: 43.8837 - mean_squared_error: 2920.6364 - val_loss: 3089.8817 - val_mean_absolute_error: 43.3300 - val_mean_squared_error: 3089.8817\n",
      "Epoch 304/400\n",
      "283/283 [==============================] - 0s 31us/step - loss: 2919.2939 - mean_absolute_error: 43.8784 - mean_squared_error: 2919.2939 - val_loss: 3081.5115 - val_mean_absolute_error: 43.3594 - val_mean_squared_error: 3081.5115\n",
      "Epoch 305/400\n",
      "283/283 [==============================] - 0s 30us/step - loss: 2920.7210 - mean_absolute_error: 43.9119 - mean_squared_error: 2920.7210 - val_loss: 3080.0971 - val_mean_absolute_error: 43.3580 - val_mean_squared_error: 3080.0971\n",
      "Epoch 306/400\n",
      "283/283 [==============================] - 0s 32us/step - loss: 2919.4733 - mean_absolute_error: 43.9055 - mean_squared_error: 2919.4733 - val_loss: 3079.8302 - val_mean_absolute_error: 43.3615 - val_mean_squared_error: 3079.8302\n",
      "Epoch 307/400\n",
      "283/283 [==============================] - 0s 31us/step - loss: 2918.3280 - mean_absolute_error: 43.8809 - mean_squared_error: 2918.3280 - val_loss: 3084.8758 - val_mean_absolute_error: 43.3274 - val_mean_squared_error: 3084.8758\n",
      "Epoch 308/400\n",
      "283/283 [==============================] - 0s 31us/step - loss: 2918.5077 - mean_absolute_error: 43.8585 - mean_squared_error: 2918.5077 - val_loss: 3092.0297 - val_mean_absolute_error: 43.3055 - val_mean_squared_error: 3092.0297\n",
      "Epoch 309/400\n",
      "283/283 [==============================] - 0s 31us/step - loss: 2920.2161 - mean_absolute_error: 43.8892 - mean_squared_error: 2920.2161 - val_loss: 3085.0539 - val_mean_absolute_error: 43.3198 - val_mean_squared_error: 3085.0539\n",
      "Epoch 310/400\n",
      "283/283 [==============================] - 0s 33us/step - loss: 2918.2590 - mean_absolute_error: 43.8783 - mean_squared_error: 2918.2590 - val_loss: 3087.7589 - val_mean_absolute_error: 43.3143 - val_mean_squared_error: 3087.7589\n",
      "Epoch 311/400\n",
      "283/283 [==============================] - 0s 31us/step - loss: 2919.6678 - mean_absolute_error: 43.8622 - mean_squared_error: 2919.6678 - val_loss: 3086.5706 - val_mean_absolute_error: 43.3156 - val_mean_squared_error: 3086.5706\n",
      "Epoch 312/400\n",
      "283/283 [==============================] - 0s 32us/step - loss: 2920.1498 - mean_absolute_error: 43.8867 - mean_squared_error: 2920.1498 - val_loss: 3090.8081 - val_mean_absolute_error: 43.3157 - val_mean_squared_error: 3090.8081\n",
      "Epoch 313/400\n",
      "283/283 [==============================] - 0s 31us/step - loss: 2916.9681 - mean_absolute_error: 43.8530 - mean_squared_error: 2916.9681 - val_loss: 3090.8547 - val_mean_absolute_error: 43.3113 - val_mean_squared_error: 3090.8547\n",
      "Epoch 314/400\n",
      "283/283 [==============================] - 0s 34us/step - loss: 2924.3653 - mean_absolute_error: 43.9530 - mean_squared_error: 2924.3653 - val_loss: 3078.8429 - val_mean_absolute_error: 43.3698 - val_mean_squared_error: 3078.8429\n",
      "Epoch 315/400\n",
      "283/283 [==============================] - 0s 34us/step - loss: 2916.9646 - mean_absolute_error: 43.8649 - mean_squared_error: 2916.9646 - val_loss: 3089.0161 - val_mean_absolute_error: 43.3187 - val_mean_squared_error: 3089.0161\n",
      "Epoch 316/400\n",
      "283/283 [==============================] - 0s 33us/step - loss: 2917.3260 - mean_absolute_error: 43.8600 - mean_squared_error: 2917.3260 - val_loss: 3088.8352 - val_mean_absolute_error: 43.3233 - val_mean_squared_error: 3088.8352\n",
      "Epoch 317/400\n",
      "283/283 [==============================] - 0s 30us/step - loss: 2922.5754 - mean_absolute_error: 43.9276 - mean_squared_error: 2922.5754 - val_loss: 3098.2640 - val_mean_absolute_error: 43.3208 - val_mean_squared_error: 3098.2640\n",
      "Epoch 318/400\n",
      "283/283 [==============================] - 0s 31us/step - loss: 2918.5341 - mean_absolute_error: 43.8980 - mean_squared_error: 2918.5341 - val_loss: 3083.1031 - val_mean_absolute_error: 43.3410 - val_mean_squared_error: 3083.1031\n",
      "Epoch 319/400\n",
      "283/283 [==============================] - 0s 31us/step - loss: 2918.2036 - mean_absolute_error: 43.8650 - mean_squared_error: 2918.2036 - val_loss: 3086.0819 - val_mean_absolute_error: 43.3261 - val_mean_squared_error: 3086.0819\n",
      "Epoch 320/400\n",
      "283/283 [==============================] - 0s 32us/step - loss: 2915.7986 - mean_absolute_error: 43.8577 - mean_squared_error: 2915.7986 - val_loss: 3084.6841 - val_mean_absolute_error: 43.3421 - val_mean_squared_error: 3084.6841\n",
      "Epoch 321/400\n",
      "283/283 [==============================] - 0s 32us/step - loss: 2920.6479 - mean_absolute_error: 43.9149 - mean_squared_error: 2920.6479 - val_loss: 3073.6592 - val_mean_absolute_error: 43.4113 - val_mean_squared_error: 3073.6592\n",
      "Epoch 322/400\n",
      "283/283 [==============================] - 0s 33us/step - loss: 2915.6571 - mean_absolute_error: 43.8637 - mean_squared_error: 2915.6571 - val_loss: 3083.4792 - val_mean_absolute_error: 43.3442 - val_mean_squared_error: 3083.4792\n",
      "Epoch 323/400\n",
      "283/283 [==============================] - 0s 34us/step - loss: 2915.3810 - mean_absolute_error: 43.8601 - mean_squared_error: 2915.3810 - val_loss: 3086.5117 - val_mean_absolute_error: 43.3300 - val_mean_squared_error: 3086.5117\n",
      "Epoch 324/400\n",
      "283/283 [==============================] - 0s 33us/step - loss: 2919.2301 - mean_absolute_error: 43.8974 - mean_squared_error: 2919.2301 - val_loss: 3101.1090 - val_mean_absolute_error: 43.3361 - val_mean_squared_error: 3101.1090\n",
      "Epoch 325/400\n",
      "283/283 [==============================] - 0s 32us/step - loss: 2915.5123 - mean_absolute_error: 43.8493 - mean_squared_error: 2915.5123 - val_loss: 3086.2058 - val_mean_absolute_error: 43.3470 - val_mean_squared_error: 3086.2058\n",
      "Epoch 326/400\n",
      "283/283 [==============================] - 0s 32us/step - loss: 2915.0184 - mean_absolute_error: 43.8555 - mean_squared_error: 2915.0184 - val_loss: 3091.8037 - val_mean_absolute_error: 43.3372 - val_mean_squared_error: 3091.8037\n",
      "Epoch 327/400\n",
      "283/283 [==============================] - 0s 32us/step - loss: 2921.5167 - mean_absolute_error: 43.9340 - mean_squared_error: 2921.5167 - val_loss: 3077.3793 - val_mean_absolute_error: 43.4001 - val_mean_squared_error: 3077.3793\n",
      "Epoch 328/400\n",
      "283/283 [==============================] - 0s 32us/step - loss: 2916.1829 - mean_absolute_error: 43.8990 - mean_squared_error: 2916.1829 - val_loss: 3077.8988 - val_mean_absolute_error: 43.3950 - val_mean_squared_error: 3077.8988\n",
      "Epoch 329/400\n",
      "283/283 [==============================] - 0s 32us/step - loss: 2912.4307 - mean_absolute_error: 43.8448 - mean_squared_error: 2912.4307 - val_loss: 3094.2114 - val_mean_absolute_error: 43.3264 - val_mean_squared_error: 3094.2114\n",
      "Epoch 330/400\n",
      "283/283 [==============================] - 0s 33us/step - loss: 2913.4331 - mean_absolute_error: 43.8150 - mean_squared_error: 2913.4331 - val_loss: 3096.6252 - val_mean_absolute_error: 43.3270 - val_mean_squared_error: 3096.6252\n",
      "Epoch 331/400\n",
      "283/283 [==============================] - 0s 33us/step - loss: 2917.2829 - mean_absolute_error: 43.8478 - mean_squared_error: 2917.2829 - val_loss: 3084.4910 - val_mean_absolute_error: 43.3393 - val_mean_squared_error: 3084.4910\n",
      "Epoch 332/400\n",
      "283/283 [==============================] - 0s 31us/step - loss: 2914.9755 - mean_absolute_error: 43.8465 - mean_squared_error: 2914.9755 - val_loss: 3095.7372 - val_mean_absolute_error: 43.3201 - val_mean_squared_error: 3095.7372\n",
      "Epoch 333/400\n",
      "283/283 [==============================] - 0s 32us/step - loss: 2912.3582 - mean_absolute_error: 43.8092 - mean_squared_error: 2912.3582 - val_loss: 3088.0885 - val_mean_absolute_error: 43.3283 - val_mean_squared_error: 3088.0885\n",
      "Epoch 334/400\n",
      "283/283 [==============================] - 0s 32us/step - loss: 2912.1723 - mean_absolute_error: 43.8103 - mean_squared_error: 2912.1723 - val_loss: 3089.3393 - val_mean_absolute_error: 43.3275 - val_mean_squared_error: 3089.3393\n",
      "Epoch 335/400\n"
     ]
    },
    {
     "name": "stdout",
     "output_type": "stream",
     "text": [
      "283/283 [==============================] - 0s 32us/step - loss: 2924.3813 - mean_absolute_error: 43.9178 - mean_squared_error: 2924.3813 - val_loss: 3071.5807 - val_mean_absolute_error: 43.4526 - val_mean_squared_error: 3071.5807\n",
      "Epoch 336/400\n",
      "283/283 [==============================] - 0s 32us/step - loss: 2914.8953 - mean_absolute_error: 43.8906 - mean_squared_error: 2914.8953 - val_loss: 3083.6938 - val_mean_absolute_error: 43.3428 - val_mean_squared_error: 3083.6938\n",
      "Epoch 337/400\n",
      "283/283 [==============================] - 0s 32us/step - loss: 2912.3422 - mean_absolute_error: 43.7830 - mean_squared_error: 2912.3422 - val_loss: 3096.0443 - val_mean_absolute_error: 43.3262 - val_mean_squared_error: 3096.0443\n",
      "Epoch 338/400\n",
      "283/283 [==============================] - 0s 30us/step - loss: 2911.7351 - mean_absolute_error: 43.8126 - mean_squared_error: 2911.7351 - val_loss: 3089.5207 - val_mean_absolute_error: 43.3277 - val_mean_squared_error: 3089.5207\n",
      "Epoch 339/400\n",
      "283/283 [==============================] - 0s 30us/step - loss: 2911.4443 - mean_absolute_error: 43.8186 - mean_squared_error: 2911.4443 - val_loss: 3090.0933 - val_mean_absolute_error: 43.3308 - val_mean_squared_error: 3090.0933\n",
      "Epoch 340/400\n",
      "283/283 [==============================] - 0s 30us/step - loss: 2909.6856 - mean_absolute_error: 43.7987 - mean_squared_error: 2909.6856 - val_loss: 3094.7035 - val_mean_absolute_error: 43.3195 - val_mean_squared_error: 3094.7035\n",
      "Epoch 341/400\n",
      "283/283 [==============================] - 0s 32us/step - loss: 2909.6213 - mean_absolute_error: 43.7868 - mean_squared_error: 2909.6213 - val_loss: 3088.9383 - val_mean_absolute_error: 43.3363 - val_mean_squared_error: 3088.9383\n",
      "Epoch 342/400\n",
      "283/283 [==============================] - 0s 31us/step - loss: 2914.2152 - mean_absolute_error: 43.8240 - mean_squared_error: 2914.2152 - val_loss: 3099.8485 - val_mean_absolute_error: 43.3506 - val_mean_squared_error: 3099.8485\n",
      "Epoch 343/400\n",
      "283/283 [==============================] - 0s 31us/step - loss: 2919.2785 - mean_absolute_error: 43.9043 - mean_squared_error: 2919.2785 - val_loss: 3076.7947 - val_mean_absolute_error: 43.4029 - val_mean_squared_error: 3076.7947\n",
      "Epoch 344/400\n",
      "283/283 [==============================] - 0s 33us/step - loss: 2911.4900 - mean_absolute_error: 43.8577 - mean_squared_error: 2911.4900 - val_loss: 3077.7700 - val_mean_absolute_error: 43.3932 - val_mean_squared_error: 3077.7700\n",
      "Epoch 345/400\n",
      "283/283 [==============================] - 0s 32us/step - loss: 2909.1418 - mean_absolute_error: 43.8088 - mean_squared_error: 2909.1418 - val_loss: 3085.2908 - val_mean_absolute_error: 43.3369 - val_mean_squared_error: 3085.2908\n",
      "Epoch 346/400\n",
      "283/283 [==============================] - 0s 32us/step - loss: 2908.1800 - mean_absolute_error: 43.7879 - mean_squared_error: 2908.1800 - val_loss: 3088.7026 - val_mean_absolute_error: 43.3340 - val_mean_squared_error: 3088.7026\n",
      "Epoch 347/400\n",
      "283/283 [==============================] - 0s 32us/step - loss: 2909.2172 - mean_absolute_error: 43.7813 - mean_squared_error: 2909.2172 - val_loss: 3099.8026 - val_mean_absolute_error: 43.3472 - val_mean_squared_error: 3099.8026\n",
      "Epoch 348/400\n",
      "283/283 [==============================] - 0s 32us/step - loss: 2922.5256 - mean_absolute_error: 43.9249 - mean_squared_error: 2922.5256 - val_loss: 3078.5424 - val_mean_absolute_error: 43.3968 - val_mean_squared_error: 3078.5424\n",
      "Epoch 349/400\n",
      "283/283 [==============================] - 0s 35us/step - loss: 2908.4648 - mean_absolute_error: 43.7975 - mean_squared_error: 2908.4648 - val_loss: 3096.4937 - val_mean_absolute_error: 43.3303 - val_mean_squared_error: 3096.4937\n",
      "Epoch 350/400\n",
      "283/283 [==============================] - 0s 34us/step - loss: 2908.9440 - mean_absolute_error: 43.7858 - mean_squared_error: 2908.9440 - val_loss: 3088.8124 - val_mean_absolute_error: 43.3379 - val_mean_squared_error: 3088.8124\n",
      "Epoch 351/400\n",
      "283/283 [==============================] - 0s 31us/step - loss: 2905.7477 - mean_absolute_error: 43.7625 - mean_squared_error: 2905.7477 - val_loss: 3094.0997 - val_mean_absolute_error: 43.3393 - val_mean_squared_error: 3094.0997\n",
      "Epoch 352/400\n",
      "283/283 [==============================] - 0s 32us/step - loss: 2911.3428 - mean_absolute_error: 43.8079 - mean_squared_error: 2911.3428 - val_loss: 3104.1808 - val_mean_absolute_error: 43.3552 - val_mean_squared_error: 3104.1808\n",
      "Epoch 353/400\n",
      "283/283 [==============================] - 0s 31us/step - loss: 2905.9372 - mean_absolute_error: 43.7739 - mean_squared_error: 2905.9372 - val_loss: 3090.3077 - val_mean_absolute_error: 43.3566 - val_mean_squared_error: 3090.3077\n",
      "Epoch 354/400\n",
      "283/283 [==============================] - 0s 33us/step - loss: 2908.7251 - mean_absolute_error: 43.8168 - mean_squared_error: 2908.7251 - val_loss: 3079.6003 - val_mean_absolute_error: 43.4097 - val_mean_squared_error: 3079.6003\n",
      "Epoch 355/400\n",
      "283/283 [==============================] - 0s 31us/step - loss: 2905.4870 - mean_absolute_error: 43.8018 - mean_squared_error: 2905.4870 - val_loss: 3083.8795 - val_mean_absolute_error: 43.3793 - val_mean_squared_error: 3083.8795\n",
      "Epoch 356/400\n",
      "283/283 [==============================] - 0s 34us/step - loss: 2909.0262 - mean_absolute_error: 43.8108 - mean_squared_error: 2909.0262 - val_loss: 3083.5736 - val_mean_absolute_error: 43.3676 - val_mean_squared_error: 3083.5736\n",
      "Epoch 357/400\n",
      "283/283 [==============================] - 0s 32us/step - loss: 2907.2961 - mean_absolute_error: 43.8230 - mean_squared_error: 2907.2961 - val_loss: 3100.5927 - val_mean_absolute_error: 43.3454 - val_mean_squared_error: 3100.5927\n",
      "Epoch 358/400\n",
      "283/283 [==============================] - 0s 31us/step - loss: 2912.5181 - mean_absolute_error: 43.8213 - mean_squared_error: 2912.5181 - val_loss: 3110.4261 - val_mean_absolute_error: 43.3707 - val_mean_squared_error: 3110.4261\n",
      "Epoch 359/400\n",
      "283/283 [==============================] - 0s 29us/step - loss: 2904.3740 - mean_absolute_error: 43.7533 - mean_squared_error: 2904.3740 - val_loss: 3096.0157 - val_mean_absolute_error: 43.3483 - val_mean_squared_error: 3096.0157\n",
      "Epoch 360/400\n",
      "283/283 [==============================] - 0s 30us/step - loss: 2903.7522 - mean_absolute_error: 43.7584 - mean_squared_error: 2903.7522 - val_loss: 3087.9912 - val_mean_absolute_error: 43.3645 - val_mean_squared_error: 3087.9912\n",
      "Epoch 361/400\n",
      "283/283 [==============================] - 0s 37us/step - loss: 2906.4995 - mean_absolute_error: 43.8321 - mean_squared_error: 2906.4995 - val_loss: 3075.9747 - val_mean_absolute_error: 43.4448 - val_mean_squared_error: 3075.9747\n",
      "Epoch 362/400\n",
      "283/283 [==============================] - 0s 35us/step - loss: 2904.2260 - mean_absolute_error: 43.7957 - mean_squared_error: 2904.2260 - val_loss: 3085.2479 - val_mean_absolute_error: 43.3892 - val_mean_squared_error: 3085.2479\n",
      "Epoch 363/400\n",
      "283/283 [==============================] - 0s 33us/step - loss: 2904.0220 - mean_absolute_error: 43.7804 - mean_squared_error: 2904.0220 - val_loss: 3088.0150 - val_mean_absolute_error: 43.3730 - val_mean_squared_error: 3088.0150\n",
      "Epoch 364/400\n",
      "283/283 [==============================] - 0s 46us/step - loss: 2902.6125 - mean_absolute_error: 43.7474 - mean_squared_error: 2902.6125 - val_loss: 3089.1804 - val_mean_absolute_error: 43.3485 - val_mean_squared_error: 3089.1804\n",
      "Epoch 365/400\n",
      "283/283 [==============================] - 0s 31us/step - loss: 2901.9091 - mean_absolute_error: 43.7425 - mean_squared_error: 2901.9091 - val_loss: 3092.0387 - val_mean_absolute_error: 43.3451 - val_mean_squared_error: 3092.0387\n",
      "Epoch 366/400\n",
      "283/283 [==============================] - 0s 31us/step - loss: 2903.4040 - mean_absolute_error: 43.7449 - mean_squared_error: 2903.4040 - val_loss: 3103.4666 - val_mean_absolute_error: 43.3546 - val_mean_squared_error: 3103.4666\n",
      "Epoch 367/400\n",
      "283/283 [==============================] - 0s 32us/step - loss: 2910.7607 - mean_absolute_error: 43.8048 - mean_squared_error: 2910.7607 - val_loss: 3086.4716 - val_mean_absolute_error: 43.3565 - val_mean_squared_error: 3086.4716\n",
      "Epoch 368/400\n",
      "283/283 [==============================] - 0s 32us/step - loss: 2901.7785 - mean_absolute_error: 43.7504 - mean_squared_error: 2901.7785 - val_loss: 3095.2490 - val_mean_absolute_error: 43.3537 - val_mean_squared_error: 3095.2490\n"
     ]
    },
    {
     "name": "stdout",
     "output_type": "stream",
     "text": [
      "Epoch 369/400\n",
      "283/283 [==============================] - 0s 32us/step - loss: 2904.7900 - mean_absolute_error: 43.7359 - mean_squared_error: 2904.7900 - val_loss: 3101.6965 - val_mean_absolute_error: 43.3557 - val_mean_squared_error: 3101.6965\n",
      "Epoch 370/400\n",
      "283/283 [==============================] - 0s 32us/step - loss: 2906.1280 - mean_absolute_error: 43.7850 - mean_squared_error: 2906.1280 - val_loss: 3085.2644 - val_mean_absolute_error: 43.3874 - val_mean_squared_error: 3085.2644\n",
      "Epoch 371/400\n",
      "283/283 [==============================] - 0s 38us/step - loss: 2904.3183 - mean_absolute_error: 43.7608 - mean_squared_error: 2904.3183 - val_loss: 3092.1355 - val_mean_absolute_error: 43.3604 - val_mean_squared_error: 3092.1355\n",
      "Epoch 372/400\n",
      "283/283 [==============================] - 0s 40us/step - loss: 2900.6453 - mean_absolute_error: 43.7327 - mean_squared_error: 2900.6453 - val_loss: 3086.1470 - val_mean_absolute_error: 43.3773 - val_mean_squared_error: 3086.1470\n",
      "Epoch 373/400\n",
      "283/283 [==============================] - 0s 31us/step - loss: 2899.9470 - mean_absolute_error: 43.7323 - mean_squared_error: 2899.9470 - val_loss: 3088.6229 - val_mean_absolute_error: 43.3719 - val_mean_squared_error: 3088.6229\n",
      "Epoch 374/400\n",
      "283/283 [==============================] - 0s 34us/step - loss: 2901.7925 - mean_absolute_error: 43.7388 - mean_squared_error: 2901.7925 - val_loss: 3096.3517 - val_mean_absolute_error: 43.3717 - val_mean_squared_error: 3096.3517\n",
      "Epoch 375/400\n",
      "283/283 [==============================] - 0s 32us/step - loss: 2899.1832 - mean_absolute_error: 43.7248 - mean_squared_error: 2899.1832 - val_loss: 3093.0658 - val_mean_absolute_error: 43.3604 - val_mean_squared_error: 3093.0658\n",
      "Epoch 376/400\n",
      "283/283 [==============================] - 0s 31us/step - loss: 2904.4489 - mean_absolute_error: 43.7644 - mean_squared_error: 2904.4489 - val_loss: 3093.9299 - val_mean_absolute_error: 43.3738 - val_mean_squared_error: 3093.9299\n",
      "Epoch 377/400\n",
      "283/283 [==============================] - 0s 32us/step - loss: 2899.9464 - mean_absolute_error: 43.7352 - mean_squared_error: 2899.9464 - val_loss: 3088.4842 - val_mean_absolute_error: 43.3957 - val_mean_squared_error: 3088.4842\n",
      "Epoch 378/400\n",
      "283/283 [==============================] - 0s 36us/step - loss: 2901.1539 - mean_absolute_error: 43.7499 - mean_squared_error: 2901.1539 - val_loss: 3087.5712 - val_mean_absolute_error: 43.3779 - val_mean_squared_error: 3087.5712\n",
      "Epoch 379/400\n",
      "283/283 [==============================] - 0s 32us/step - loss: 2898.4386 - mean_absolute_error: 43.7204 - mean_squared_error: 2898.4386 - val_loss: 3096.1634 - val_mean_absolute_error: 43.3580 - val_mean_squared_error: 3096.1634\n",
      "Epoch 380/400\n",
      "283/283 [==============================] - 0s 31us/step - loss: 2901.7763 - mean_absolute_error: 43.7413 - mean_squared_error: 2901.7763 - val_loss: 3108.5013 - val_mean_absolute_error: 43.3711 - val_mean_squared_error: 3108.5013\n",
      "Epoch 381/400\n",
      "283/283 [==============================] - 0s 35us/step - loss: 2899.4476 - mean_absolute_error: 43.7332 - mean_squared_error: 2899.4476 - val_loss: 3091.7371 - val_mean_absolute_error: 43.3718 - val_mean_squared_error: 3091.7371\n",
      "Epoch 382/400\n",
      "283/283 [==============================] - 0s 31us/step - loss: 2905.8524 - mean_absolute_error: 43.7683 - mean_squared_error: 2905.8524 - val_loss: 3102.4014 - val_mean_absolute_error: 43.3683 - val_mean_squared_error: 3102.4014\n",
      "Epoch 383/400\n",
      "283/283 [==============================] - 0s 29us/step - loss: 2896.8550 - mean_absolute_error: 43.6981 - mean_squared_error: 2896.8550 - val_loss: 3091.1819 - val_mean_absolute_error: 43.3745 - val_mean_squared_error: 3091.1819\n",
      "Epoch 384/400\n",
      "283/283 [==============================] - 0s 34us/step - loss: 2898.1303 - mean_absolute_error: 43.7412 - mean_squared_error: 2898.1303 - val_loss: 3082.3981 - val_mean_absolute_error: 43.4018 - val_mean_squared_error: 3082.3981\n",
      "Epoch 385/400\n",
      "283/283 [==============================] - 0s 32us/step - loss: 2896.6120 - mean_absolute_error: 43.7218 - mean_squared_error: 2896.6120 - val_loss: 3086.2590 - val_mean_absolute_error: 43.3846 - val_mean_squared_error: 3086.2590\n",
      "Epoch 386/400\n",
      "283/283 [==============================] - 0s 33us/step - loss: 2895.5248 - mean_absolute_error: 43.7038 - mean_squared_error: 2895.5248 - val_loss: 3087.6357 - val_mean_absolute_error: 43.3764 - val_mean_squared_error: 3087.6357\n",
      "Epoch 387/400\n",
      "283/283 [==============================] - 0s 35us/step - loss: 2895.9105 - mean_absolute_error: 43.6980 - mean_squared_error: 2895.9105 - val_loss: 3089.2701 - val_mean_absolute_error: 43.3834 - val_mean_squared_error: 3089.2701\n",
      "Epoch 388/400\n",
      "283/283 [==============================] - 0s 39us/step - loss: 2900.5570 - mean_absolute_error: 43.7506 - mean_squared_error: 2900.5570 - val_loss: 3085.3623 - val_mean_absolute_error: 43.3931 - val_mean_squared_error: 3085.3623\n",
      "Epoch 389/400\n",
      "283/283 [==============================] - 0s 31us/step - loss: 2900.6772 - mean_absolute_error: 43.7030 - mean_squared_error: 2900.6772 - val_loss: 3108.8548 - val_mean_absolute_error: 43.3828 - val_mean_squared_error: 3108.8548\n",
      "Epoch 390/400\n",
      "283/283 [==============================] - 0s 30us/step - loss: 2896.1520 - mean_absolute_error: 43.6703 - mean_squared_error: 2896.1520 - val_loss: 3107.7939 - val_mean_absolute_error: 43.3814 - val_mean_squared_error: 3107.7939\n",
      "Epoch 391/400\n",
      "283/283 [==============================] - 0s 32us/step - loss: 2897.9632 - mean_absolute_error: 43.7129 - mean_squared_error: 2897.9632 - val_loss: 3088.2966 - val_mean_absolute_error: 43.4075 - val_mean_squared_error: 3088.2966\n",
      "Epoch 392/400\n",
      "283/283 [==============================] - 0s 30us/step - loss: 2897.0426 - mean_absolute_error: 43.7028 - mean_squared_error: 2897.0426 - val_loss: 3093.3468 - val_mean_absolute_error: 43.3815 - val_mean_squared_error: 3093.3468\n",
      "Epoch 393/400\n",
      "283/283 [==============================] - 0s 32us/step - loss: 2897.7350 - mean_absolute_error: 43.6803 - mean_squared_error: 2897.7350 - val_loss: 3100.1631 - val_mean_absolute_error: 43.3801 - val_mean_squared_error: 3100.1631\n",
      "Epoch 394/400\n",
      "283/283 [==============================] - 0s 36us/step - loss: 2892.6295 - mean_absolute_error: 43.6658 - mean_squared_error: 2892.6295 - val_loss: 3089.5804 - val_mean_absolute_error: 43.4026 - val_mean_squared_error: 3089.5804\n",
      "Epoch 395/400\n",
      "283/283 [==============================] - 0s 35us/step - loss: 2893.2111 - mean_absolute_error: 43.6890 - mean_squared_error: 2893.2111 - val_loss: 3085.5381 - val_mean_absolute_error: 43.4264 - val_mean_squared_error: 3085.5381\n",
      "Epoch 396/400\n",
      "283/283 [==============================] - 0s 31us/step - loss: 2893.6627 - mean_absolute_error: 43.6991 - mean_squared_error: 2893.6627 - val_loss: 3091.8462 - val_mean_absolute_error: 43.4035 - val_mean_squared_error: 3091.8462\n",
      "Epoch 397/400\n",
      "283/283 [==============================] - 0s 32us/step - loss: 2894.8052 - mean_absolute_error: 43.6988 - mean_squared_error: 2894.8052 - val_loss: 3086.6826 - val_mean_absolute_error: 43.4220 - val_mean_squared_error: 3086.6826\n",
      "Epoch 398/400\n",
      "283/283 [==============================] - 0s 35us/step - loss: 2891.8348 - mean_absolute_error: 43.6597 - mean_squared_error: 2891.8348 - val_loss: 3092.5137 - val_mean_absolute_error: 43.3874 - val_mean_squared_error: 3092.5137\n",
      "Epoch 399/400\n",
      "283/283 [==============================] - 0s 36us/step - loss: 2891.9690 - mean_absolute_error: 43.6499 - mean_squared_error: 2891.9690 - val_loss: 3100.6189 - val_mean_absolute_error: 43.3827 - val_mean_squared_error: 3100.6189\n",
      "Epoch 400/400\n",
      "283/283 [==============================] - 0s 32us/step - loss: 2892.3957 - mean_absolute_error: 43.6594 - mean_squared_error: 2892.3957 - val_loss: 3098.3948 - val_mean_absolute_error: 43.4017 - val_mean_squared_error: 3098.3948\n"
     ]
    },
    {
     "data": {
      "text/plain": [
       "<keras.callbacks.History at 0x7fe2f5b53f98>"
      ]
     },
     "execution_count": 6,
     "metadata": {},
     "output_type": "execute_result"
    }
   ],
   "source": [
    "# Train the network a bit\n",
    "EPOCHS = 400\n",
    "model.fit(\n",
    "  train_dataset, train_labels,\n",
    "  epochs=EPOCHS, validation_split = 0.2)"
   ]
  },
  {
   "cell_type": "code",
   "execution_count": 7,
   "metadata": {},
   "outputs": [
    {
     "name": "stdout",
     "output_type": "stream",
     "text": [
      "_________________________________________________________________\n",
      "Layer (type)                 Output Shape              Param #   \n",
      "=================================================================\n",
      "dense_1 (Dense)              (None, 64)                704       \n",
      "_________________________________________________________________\n",
      "dense_2 (Dense)              (None, 64)                4160      \n",
      "_________________________________________________________________\n",
      "dense_3 (Dense)              (None, 1)                 65        \n",
      "=================================================================\n",
      "Total params: 4,929\n",
      "Trainable params: 4,929\n",
      "Non-trainable params: 0\n",
      "_________________________________________________________________\n"
     ]
    }
   ],
   "source": [
    "# Network architecture summary\n",
    "model.summary()"
   ]
  },
  {
   "cell_type": "code",
   "execution_count": 8,
   "metadata": {},
   "outputs": [
    {
     "name": "stdout",
     "output_type": "stream",
     "text": [
      "Testing set Mean Abs Error: 42.24\n"
     ]
    }
   ],
   "source": [
    "# Test it and view the overall MAE\n",
    "loss, mae, mse = model.evaluate(test_dataset, test_labels, verbose=0)\n",
    "print(\"Testing set Mean Abs Error: {:5.2f}\".format(mae))"
   ]
  },
  {
   "cell_type": "code",
   "execution_count": 9,
   "metadata": {},
   "outputs": [],
   "source": [
    "# Data point for prediction function check\n",
    "data = [0.01991321,  0.05068012,  0.10480869,  0.07007254, -0.03596778, \n",
    "        -0.0266789 , -0.02499266, -0.00259226,  0.00371174,  0.04034337]"
   ]
  },
  {
   "cell_type": "code",
   "execution_count": 10,
   "metadata": {},
   "outputs": [],
   "source": [
    "# Define predict function - needs extra brackets\n",
    "def predict(model, inputs):\n",
    "    return [str(model.predict([[x]])) for x in inputs]"
   ]
  },
  {
   "cell_type": "code",
   "execution_count": 11,
   "metadata": {},
   "outputs": [
    {
     "data": {
      "text/plain": [
       "['[[232.18886]]']"
      ]
     },
     "execution_count": 11,
     "metadata": {},
     "output_type": "execute_result"
    }
   ],
   "source": [
    "# Check if the prediction works\n",
    "predict(model, [data])"
   ]
  },
  {
   "cell_type": "code",
   "execution_count": 12,
   "metadata": {},
   "outputs": [],
   "source": [
    "# Save a model to a file\n",
    "model.save(\"/tmp/model_keras.h5\") "
   ]
  },
  {
   "cell_type": "code",
   "execution_count": 13,
   "metadata": {},
   "outputs": [],
   "source": [
    "from clipper_admin import ClipperConnection, DockerContainerManager\n",
    "\n",
    "clipper_conn = ClipperConnection(DockerContainerManager())"
   ]
  },
  {
   "cell_type": "code",
   "execution_count": 14,
   "metadata": {
    "scrolled": true
   },
   "outputs": [
    {
     "name": "stderr",
     "output_type": "stream",
     "text": [
      "19-09-05:10:03:32 WARNING  [clipper_admin.py:141] [default-cluster] Error starting Clipper: Cluster default-cluster cannot be started because it already exists. Please use ClipperConnection.connect() to connect to it.\n",
      "19-09-05:10:03:32 INFO     [clipper_admin.py:172] [default-cluster] Successfully connected to Clipper cluster at localhost:1337\n"
     ]
    }
   ],
   "source": [
    "from clipper_admin import ClipperException\n",
    "try:\n",
    "    clipper_conn.start_clipper()\n",
    "except ClipperException as e:\n",
    "    clipper_conn.connect()\n",
    "except Exception as e:\n",
    "    print(e)\n"
   ]
  },
  {
   "cell_type": "code",
   "execution_count": 15,
   "metadata": {},
   "outputs": [
    {
     "name": "stdout",
     "output_type": "stream",
     "text": [
      "CONTAINER ID        IMAGE                                             COMMAND                  CREATED             STATUS                    PORTS                                            NAMES\r\n",
      "48c54dd5044f        waue0920/default-cluster-keras-model2:1           \"/container/containe…\"   6 minutes ago       Up 6 minutes (healthy)                                                     keras-model2_1-35303\r\n",
      "e74692e907bc        waue0920/default-cluster-keras-test-model:1       \"/container/containe…\"   7 minutes ago       Up 6 minutes (healthy)                                                     keras-test-model_1-3993\r\n",
      "2ea343e4d0c0        waue0920/default-cluster-image-example-string:2   \"/container/containe…\"   10 minutes ago      Up 10 minutes (healthy)                                                    image-example-string_2-99511\r\n",
      "2f7ccc5af16b        default-cluster-image-example2:1                  \"/container/containe…\"   11 minutes ago      Up 11 minutes (healthy)                                                    image-example2_1-26514\r\n",
      "cc876f160a89        waue0920/default-cluster-image-example:3          \"/container/containe…\"   12 minutes ago      Up 11 minutes (healthy)                                                    image-example_3-28896\r\n",
      "4dc2635d165f        waue0920/default-cluster-waue-sum-model:2         \"/container/containe…\"   2 hours ago         Up 2 hours (healthy)                                                       waue-sum-model_2-34710\r\n",
      "f07d8c597f26        prom/prometheus:v2.9.2                            \"/bin/prometheus --c…\"   2 hours ago         Up 2 hours                0.0.0.0:9090->9090/tcp                           metric_frontend-60726\r\n",
      "b8a086107069        clipper/frontend-exporter:0.4.1                   \"python /usr/src/app…\"   2 hours ago         Up 2 hours                                                                 query_frontend_exporter-57634\r\n",
      "d78c036cac62        clipper/query_frontend:0.4.1                      \"/clipper/query_fron…\"   2 hours ago         Up 2 hours                0.0.0.0:1337->1337/tcp, 0.0.0.0:7000->7000/tcp   query_frontend-57634\r\n",
      "c4a968fa71c2        clipper/management_frontend:0.4.1                 \"/clipper/mgmt_front…\"   2 hours ago         Up 2 hours                0.0.0.0:1338->1338/tcp                           mgmt_frontend-72198\r\n",
      "09a810568511        redis:alpine                                      \"docker-entrypoint.s…\"   2 hours ago         Up 2 hours                0.0.0.0:6379->6379/tcp                           redis-95402\r\n"
     ]
    }
   ],
   "source": [
    "# You can see some Clipper containers by simply running:\n",
    "!docker ps"
   ]
  },
  {
   "cell_type": "code",
   "execution_count": 16,
   "metadata": {},
   "outputs": [
    {
     "data": {
      "text/plain": [
       "['keras-model2',\n",
       " 'image-example2',\n",
       " 'hello-world',\n",
       " 'image-example-string',\n",
       " 'keras-test-app',\n",
       " 'image-example']"
      ]
     },
     "execution_count": 16,
     "metadata": {},
     "output_type": "execute_result"
    }
   ],
   "source": [
    "# List all applications\n",
    "clipper_conn.get_all_apps()"
   ]
  },
  {
   "cell_type": "code",
   "execution_count": 17,
   "metadata": {},
   "outputs": [
    {
     "data": {
      "text/plain": [
       "['image-example2:1',\n",
       " 'image-example-string:2',\n",
       " 'keras-test-model:1',\n",
       " 'waue-sum-model:2',\n",
       " 'image-example:3',\n",
       " 'keras-model2:1']"
      ]
     },
     "execution_count": 17,
     "metadata": {},
     "output_type": "execute_result"
    }
   ],
   "source": [
    "# List all models\n",
    "clipper_conn.get_all_models()"
   ]
  },
  {
   "cell_type": "code",
   "execution_count": 18,
   "metadata": {
    "scrolled": true
   },
   "outputs": [
    {
     "name": "stderr",
     "output_type": "stream",
     "text": [
      "19-09-05:10:03:33 INFO     [clipper_admin.py:236] [default-cluster] Application keras-app was successfully registered\n"
     ]
    }
   ],
   "source": [
    "# Add an application with a name and an input type\n",
    "clipper_conn.register_application(\n",
    "    name=\"keras-app\", input_type=\"doubles\", default_output=\"-1.0\", slo_micros=100000)"
   ]
  },
  {
   "cell_type": "code",
   "execution_count": 19,
   "metadata": {
    "scrolled": true
   },
   "outputs": [
    {
     "name": "stderr",
     "output_type": "stream",
     "text": [
      "19-09-05:10:03:34 INFO     [deployer_utils.py:41] Saving function to /tmp/tmpnxdwesdvclipper\n",
      "19-09-05:10:03:34 INFO     [deployer_utils.py:51] Serialized and supplied predict function\n",
      "19-09-05:10:03:34 INFO     [keras.py:221] Using Python 3.6 base image\n",
      "19-09-05:10:03:34 INFO     [clipper_admin.py:534] [default-cluster] Building model Docker image with model data from /tmp/tmpnxdwesdvclipper\n",
      "19-09-05:10:03:35 INFO     [clipper_admin.py:539] [default-cluster] Step 1/2 : FROM clipper/keras36-container:0.4.1\n",
      "19-09-05:10:03:35 INFO     [clipper_admin.py:539] [default-cluster]  ---> 5410d028b48e\n",
      "19-09-05:10:03:35 INFO     [clipper_admin.py:539] [default-cluster] Step 2/2 : COPY /tmp/tmpnxdwesdvclipper /model/\n",
      "19-09-05:10:03:35 INFO     [clipper_admin.py:539] [default-cluster]  ---> 87419debe34d\n",
      "19-09-05:10:03:35 INFO     [clipper_admin.py:539] [default-cluster] Successfully built 87419debe34d\n",
      "19-09-05:10:03:35 INFO     [clipper_admin.py:539] [default-cluster] Successfully tagged default-cluster-keras-mod:1\n",
      "19-09-05:10:03:35 INFO     [clipper_admin.py:541] [default-cluster] Pushing model Docker image to default-cluster-keras-mod:1\n",
      "19-09-05:10:03:38 INFO     [docker_container_manager.py:409] [default-cluster] Found 0 replicas for keras-mod:1. Adding 1\n",
      "19-09-05:10:03:40 INFO     [clipper_admin.py:724] [default-cluster] Successfully registered model keras-mod:1\n",
      "19-09-05:10:03:40 INFO     [clipper_admin.py:642] [default-cluster] Done deploying model keras-mod:1.\n"
     ]
    }
   ],
   "source": [
    "# Deploy a model, to check what arguments you need run \n",
    "# \"?deploy_keras_model\" to let the notebook show you the definition of the method\n",
    "import clipper_admin.deployers.keras\n",
    "clipper_admin.deployers.keras.deploy_keras_model(\n",
    "    clipper_conn,\n",
    "    name=\"keras-mod\",\n",
    "    version=1,\n",
    "    input_type=\"doubles\",\n",
    "    func=predict,\n",
    "    model_path_or_object=model) \n",
    "# We use the model variable but you can also load a .h5 file - see the section below"
   ]
  },
  {
   "cell_type": "code",
   "execution_count": 20,
   "metadata": {
    "scrolled": true
   },
   "outputs": [
    {
     "name": "stderr",
     "output_type": "stream",
     "text": [
      "19-09-05:10:03:40 INFO     [clipper_admin.py:303] [default-cluster] Model keras-mod is now linked to application keras-app\n"
     ]
    }
   ],
   "source": [
    "# Link the model and the app\n",
    "clipper_conn.link_model_to_app(\n",
    "    app_name=\"keras-app\",\n",
    "    model_name=\"keras-mod\")"
   ]
  },
  {
   "cell_type": "code",
   "execution_count": 21,
   "metadata": {},
   "outputs": [
    {
     "data": {
      "text/plain": [
       "['keras-app',\n",
       " 'keras-model2',\n",
       " 'image-example2',\n",
       " 'hello-world',\n",
       " 'image-example-string',\n",
       " 'keras-test-app',\n",
       " 'image-example']"
      ]
     },
     "execution_count": 21,
     "metadata": {},
     "output_type": "execute_result"
    }
   ],
   "source": [
    "# Show the apps again, should list one\n",
    "clipper_conn.get_all_apps()"
   ]
  },
  {
   "cell_type": "code",
   "execution_count": 22,
   "metadata": {},
   "outputs": [],
   "source": [
    "# Get query address\n",
    "query_address = clipper_conn.get_query_addr()"
   ]
  },
  {
   "cell_type": "code",
   "execution_count": 23,
   "metadata": {},
   "outputs": [
    {
     "data": {
      "text/plain": [
       "{'query_id': 25, 'output': [[232.18886]], 'default': False}"
      ]
     },
     "execution_count": 23,
     "metadata": {},
     "output_type": "execute_result"
    }
   ],
   "source": [
    "# To avoid a default answer allow a moment for the model to start and connect properly\n",
    "# before the first query, especially when you run all steps without a break\n",
    "time.sleep(10)\n",
    "# Run a query\n",
    "import requests, json, numpy as np\n",
    "headers = {\"Content-type\": \"application/json\"}\n",
    "requests.post(\"http://\"+query_address+\"/keras-app/predict\", headers=headers, data=json.dumps({\n",
    "    \"input\": data})).json()"
   ]
  },
  {
   "cell_type": "code",
   "execution_count": 24,
   "metadata": {},
   "outputs": [
    {
     "name": "stderr",
     "output_type": "stream",
     "text": [
      "19-09-05:10:03:52 INFO     [deployer_utils.py:41] Saving function to /tmp/tmpire18v3hclipper\n",
      "19-09-05:10:03:52 INFO     [deployer_utils.py:51] Serialized and supplied predict function\n",
      "19-09-05:10:03:52 INFO     [keras.py:221] Using Python 3.6 base image\n",
      "19-09-05:10:03:52 INFO     [clipper_admin.py:534] [default-cluster] Building model Docker image with model data from /tmp/tmpire18v3hclipper\n",
      "19-09-05:10:03:52 INFO     [clipper_admin.py:539] [default-cluster] Step 1/2 : FROM clipper/keras36-container:0.4.1\n",
      "19-09-05:10:03:52 INFO     [clipper_admin.py:539] [default-cluster]  ---> 5410d028b48e\n",
      "19-09-05:10:03:52 INFO     [clipper_admin.py:539] [default-cluster] Step 2/2 : COPY /tmp/tmpire18v3hclipper /model/\n",
      "19-09-05:10:03:52 INFO     [clipper_admin.py:539] [default-cluster]  ---> 45b3be5d7ce8\n",
      "19-09-05:10:03:52 INFO     [clipper_admin.py:539] [default-cluster] Successfully built 45b3be5d7ce8\n",
      "19-09-05:10:03:52 INFO     [clipper_admin.py:539] [default-cluster] Successfully tagged default-cluster-keras-mod:2\n",
      "19-09-05:10:03:52 INFO     [clipper_admin.py:541] [default-cluster] Pushing model Docker image to default-cluster-keras-mod:2\n",
      "19-09-05:10:04:23 INFO     [docker_container_manager.py:409] [default-cluster] Found 0 replicas for keras-mod:2. Adding 1\n",
      "19-09-05:10:04:26 INFO     [clipper_admin.py:724] [default-cluster] Successfully registered model keras-mod:2\n",
      "19-09-05:10:04:26 INFO     [clipper_admin.py:642] [default-cluster] Done deploying model keras-mod:2.\n"
     ]
    }
   ],
   "source": [
    "# Deploy a second model using the saved model file\n",
    "import clipper_admin.deployers.keras\n",
    "clipper_admin.deployers.keras.deploy_keras_model(\n",
    "    clipper_conn,\n",
    "    name=\"keras-mod\",\n",
    "    version=2,\n",
    "    input_type=\"doubles\",\n",
    "    func=predict,\n",
    "    model_path_or_object=\"/tmp/model_keras.h5\")"
   ]
  },
  {
   "cell_type": "code",
   "execution_count": 29,
   "metadata": {},
   "outputs": [],
   "source": [
    "from datetime import datetime\n",
    "# To avoid a default answer allow a moment for the model to start and connect properly\n",
    "# before the first query, especially when you run all steps without a break\n",
    "start = datetime.now()\n",
    "# Run another query, the result is the same\n",
    "headers = {\"Content-type\": \"application/json\"}\n",
    "req_json= json.dumps({\"input\": data})\n",
    "r=requests.post(\"http://\"+query_address+\"/keras-app/predict\", headers=headers, \n",
    "                data=req_json)\n",
    "end = datetime.now()"
   ]
  },
  {
   "cell_type": "code",
   "execution_count": 30,
   "metadata": {},
   "outputs": [
    {
     "name": "stdout",
     "output_type": "stream",
     "text": [
      "'{\"query_id\":27,\"output\":[[232.18886]],\"default\":false}', 23.658000 ms\n"
     ]
    }
   ],
   "source": [
    "latency = (end - start).total_seconds() * 1000.0\n",
    "print(\"'%s', %f ms\" % (r.text, latency))"
   ]
  },
  {
   "cell_type": "markdown",
   "metadata": {},
   "source": [
    "# clear"
   ]
  },
  {
   "cell_type": "markdown",
   "metadata": {},
   "source": [
    "# Since it works, let's clean up the model file\n",
    "!rm /tmp/model_keras.h5"
   ]
  },
  {
   "cell_type": "markdown",
   "metadata": {},
   "source": [
    "# Unlink the model and the app\n",
    "clipper_conn.unlink_model_from_app(model_name=\"keras-mod\", app_name=\"keras-app\")"
   ]
  },
  {
   "cell_type": "markdown",
   "metadata": {},
   "source": [
    "# Stop the model\n",
    "clipper_conn.stop_models('keras-mod')"
   ]
  },
  {
   "cell_type": "markdown",
   "metadata": {
    "scrolled": true
   },
   "source": [
    "# Remove the app\n",
    "clipper_conn.delete_application('keras-app')"
   ]
  },
  {
   "cell_type": "markdown",
   "metadata": {},
   "source": [
    "# Stop Clipper\n",
    "clipper_conn.stop_all()"
   ]
  },
  {
   "cell_type": "markdown",
   "metadata": {
    "scrolled": true
   },
   "source": [
    "# Check that all docker processes are stopped\n",
    "!docker ps"
   ]
  }
 ],
 "metadata": {
  "kernelspec": {
   "display_name": "Python 3",
   "language": "python",
   "name": "python3"
  },
  "language_info": {
   "codemirror_mode": {
    "name": "ipython",
    "version": 3
   },
   "file_extension": ".py",
   "mimetype": "text/x-python",
   "name": "python",
   "nbconvert_exporter": "python",
   "pygments_lexer": "ipython3",
   "version": "3.6.5"
  }
 },
 "nbformat": 4,
 "nbformat_minor": 2
}
